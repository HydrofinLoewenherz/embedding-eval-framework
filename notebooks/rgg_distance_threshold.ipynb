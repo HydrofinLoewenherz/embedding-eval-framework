{
 "cells": [
  {
   "cell_type": "code",
   "execution_count": 1,
   "metadata": {
    "collapsed": true,
    "ExecuteTime": {
     "end_time": "2023-05-10T08:00:13.300471050Z",
     "start_time": "2023-05-10T08:00:13.299892105Z"
    }
   },
   "outputs": [
    {
     "name": "stdout",
     "output_type": "stream",
     "text": [
      "using project root as working dir\n"
     ]
    }
   ],
   "source": [
    "# switch to main dir to fix imports\n",
    "import os\n",
    "\n",
    "if os.getcwd().endswith(\"notebooks\"):\n",
    "    os.chdir(\"..\")\n",
    "    print(\"using project root as working dir\")"
   ]
  },
  {
   "cell_type": "code",
   "execution_count": 8,
   "outputs": [],
   "source": [
    "from dataclasses import asdict\n",
    "from datetime import datetime\n",
    "import time\n",
    "import seaborn as sns\n",
    "import pandas as pd\n",
    "import matplotlib.pyplot as plt\n",
    "import glob\n",
    "import torch\n",
    "from tqdm.notebook import tqdm\n",
    "import numpy as np\n",
    "from torch.utils.data import TensorDataset, DataLoader\n",
    "import math\n",
    "\n",
    "from src.evaluator import Evaluator\n",
    "from src.args import Args\n",
    "import src.graphs as graphs"
   ],
   "metadata": {
    "collapsed": false,
    "ExecuteTime": {
     "end_time": "2023-05-10T08:02:22.076002079Z",
     "start_time": "2023-05-10T08:02:22.056320251Z"
    }
   }
  },
  {
   "cell_type": "code",
   "execution_count": 3,
   "outputs": [
    {
     "name": "stdout",
     "output_type": "stream",
     "text": [
      "using cuda device\n"
     ]
    }
   ],
   "source": [
    "# start autoreload\n",
    "%load_ext autoreload\n",
    "%autoreload 2\n",
    "\n",
    "# select device\n",
    "device = \"cuda\" if torch.cuda.is_available() else (\"mps\" if torch.backends.mps.is_available() else \"cpu\")\n",
    "print(f\"using {device} device\")\n",
    "\n",
    "# global seaborn settings\n",
    "sns.set_context(\"paper\")\n",
    "sns.set_style(\"darkgrid\", {\"grid.color\": \".8\"})\n",
    "palette = \"Dark2\""
   ],
   "metadata": {
    "collapsed": false,
    "ExecuteTime": {
     "end_time": "2023-05-10T08:00:14.203560858Z",
     "start_time": "2023-05-10T08:00:14.168713367Z"
    }
   }
  },
  {
   "cell_type": "markdown",
   "source": [
    "# Load data frames\n"
   ],
   "metadata": {
    "collapsed": false
   }
  },
  {
   "cell_type": "code",
   "execution_count": 7,
   "outputs": [],
   "source": [
    "# load data frame from folder\n",
    "path = \"./out/load\"\n",
    "files = glob.glob(os.path.join(path, \"*.csv.zip\"))\n",
    "df = pd.concat((pd.read_csv(f) for f in files), ignore_index=True)\n",
    "\n",
    "# either replace or concat\n",
    "result = df\n",
    "#df_result = pd.concat((df_result, df), ignore_index=True)"
   ],
   "metadata": {
    "collapsed": false,
    "ExecuteTime": {
     "end_time": "2023-05-09T15:28:11.136019699Z",
     "start_time": "2023-05-09T15:28:11.107477881Z"
    }
   }
  },
  {
   "cell_type": "code",
   "execution_count": 12,
   "outputs": [],
   "source": [
    "# save data frame\n",
    "result.to_csv(os.path.join(path, \"./saved.csv.zip\"), index=False, compression=dict(method='zip', archive_name=f\"data.csv\"))"
   ],
   "metadata": {
    "collapsed": false,
    "ExecuteTime": {
     "end_time": "2023-05-09T15:28:55.785340596Z",
     "start_time": "2023-05-09T15:28:55.758320930Z"
    }
   }
  },
  {
   "cell_type": "markdown",
   "source": [
    "# Test if the framework learns distance threshold for RGGs"
   ],
   "metadata": {
    "collapsed": false
   }
  },
  {
   "cell_type": "code",
   "execution_count": 4,
   "outputs": [],
   "source": [
    "args = Args(\n",
    "    graph_type=\"rgg\",\n",
    "    graph_size=1000,\n",
    "    subgraph_alg=\"rjs\",\n",
    "    subgraph_size=100,\n",
    "    subgraph_alpha=0.15,\n",
    ")\n",
    "\n",
    "experiment_key = f\"rgg-threshold--{datetime.now().strftime('%d-%m--%H-%M')}\""
   ],
   "metadata": {
    "collapsed": false,
    "ExecuteTime": {
     "end_time": "2023-05-10T08:00:14.237774986Z",
     "start_time": "2023-05-10T08:00:14.192643822Z"
    }
   }
  },
  {
   "cell_type": "code",
   "execution_count": 54,
   "outputs": [
    {
     "data": {
      "text/plain": "  0%|          | 0/250 [00:00<?, ?it/s]",
      "application/vnd.jupyter.widget-view+json": {
       "version_major": 2,
       "version_minor": 0,
       "model_id": "e557bc1b5100419e807631b6529ee40c"
      }
     },
     "metadata": {},
     "output_type": "display_data"
    }
   ],
   "source": [
    "graph = graphs.gen_graph(args)\n",
    "evaluator = Evaluator(\n",
    "    graph=graph,\n",
    "    args=args,\n",
    "    writer_log_dir=f\"runs/{experiment_key}--{args.__hash__()}\",\n",
    "    device=device\n",
    ")\n",
    "# train the model\n",
    "evaluator.train(\n",
    "    optimizer=torch.optim.Adam(evaluator.net.parameters(), lr=1e-3),\n",
    "    pbar=True\n",
    ")\n",
    "# test the model\n",
    "test_loss, test_ap, test_f1, test_threshold = evaluator.test(\n",
    "    epoch=args.epochs\n",
    ")"
   ],
   "metadata": {
    "collapsed": false,
    "ExecuteTime": {
     "end_time": "2023-05-10T09:18:43.982280354Z",
     "start_time": "2023-05-10T09:18:16.138102415Z"
    }
   }
  },
  {
   "cell_type": "code",
   "execution_count": 57,
   "outputs": [
    {
     "name": "stdout",
     "output_type": "stream",
     "text": [
      "model performance: \n",
      "- loss: 0.009351695053447342\n",
      "- f1: 0.9503546357154846\n",
      "- ap: 0.9905437231063843\n",
      "- th: 0.522895872592926\n"
     ]
    }
   ],
   "source": [
    "radius = math.sqrt(args.rgg_avg_degree / ((args.graph_size - 1) * math.pi))\n",
    "print(f\"model performance: \"\n",
    "      f\"\\n- loss: {test_loss}\"\n",
    "      f\"\\n- f1: {test_f1}\"\n",
    "      f\"\\n- ap: {test_ap}\"\n",
    "      f\"\\n- th: {test_threshold}\")"
   ],
   "metadata": {
    "collapsed": false,
    "ExecuteTime": {
     "end_time": "2023-05-10T09:19:39.159568276Z",
     "start_time": "2023-05-10T09:19:39.137215721Z"
    }
   }
  },
  {
   "cell_type": "markdown",
   "source": [
    "# Plot distance threshold for original graph"
   ],
   "metadata": {
    "collapsed": false
   }
  },
  {
   "cell_type": "code",
   "execution_count": 58,
   "outputs": [],
   "source": [
    "import itertools\n",
    "\n",
    "node_feature_pairs = itertools.combinations(list(graph.nodes(data=\"feature\")), 2)\n",
    "edges = [\n",
    "    (math.dist(u_f, v_f), (u_f, v_f))\n",
    "    for ((u, u_f), (v, v_f)) in node_feature_pairs\n",
    "]\n",
    "\n",
    "values, labels = zip(*[\n",
    "    ([*u, *v], 1 if d <= radius else 0)\n",
    "    for (d, (u, v)) in edges\n",
    "])\n",
    "ds_values = torch.FloatTensor(values).to(device)\n",
    "ds_labels = torch.IntTensor(labels).to(device)\n",
    "dataset = TensorDataset(ds_values, ds_labels)\n",
    "dataloader = DataLoader(dataset, batch_size=10, shuffle=False)"
   ],
   "metadata": {
    "collapsed": false,
    "ExecuteTime": {
     "end_time": "2023-05-10T09:20:19.846029914Z",
     "start_time": "2023-05-10T09:20:16.742764705Z"
    }
   }
  },
  {
   "cell_type": "code",
   "execution_count": 59,
   "outputs": [],
   "source": [
    "# predict edges of known distances\n",
    "_, preds = evaluator.score(dataloader)\n",
    "df_edges = pd.DataFrame([\n",
    "    {\n",
    "        \"dist\": edges[i][0],\n",
    "        \"u\": edges[i][1][0],\n",
    "        \"v\": edges[i][1][1],\n",
    "        \"i\": i,\n",
    "        \"pred\": p\n",
    "    }\n",
    "    for i, p in enumerate(preds.cpu().numpy())\n",
    "])"
   ],
   "metadata": {
    "collapsed": false,
    "ExecuteTime": {
     "end_time": "2023-05-10T09:20:45.058889027Z",
     "start_time": "2023-05-10T09:20:19.847239177Z"
    }
   }
  },
  {
   "cell_type": "code",
   "execution_count": 60,
   "outputs": [
    {
     "name": "stderr",
     "output_type": "stream",
     "text": [
      "/tmp/ipykernel_50599/126550091.py:2: UserWarning: Ignoring `palette` because no `hue` variable has been assigned.\n",
      "  g = sns.relplot(\n"
     ]
    },
    {
     "name": "stdout",
     "output_type": "stream",
     "text": [
      "radius: 0.056447189008708765\n"
     ]
    },
    {
     "data": {
      "text/plain": "<Figure size 1000x500 with 1 Axes>",
      "image/png": "[encoded data removed]"
     },
     "metadata": {},
     "output_type": "display_data"
    }
   ],
   "source": [
    "# plot results\n",
    "g = sns.relplot(\n",
    "    data=df_edges, kind=\"line\",\n",
    "    x=\"dist\",\n",
    "    y=\"pred\",\n",
    "    errorbar=\"sd\",\n",
    "    palette=palette,\n",
    "    aspect=2,\n",
    ")\n",
    "g.set_axis_labels(\"Edge Distance\", \"Prediction\")\n",
    "\n",
    "\n",
    "print(f\"radius: {radius}\")\n",
    "plt.axvline(x=radius, color=\"r\")\n",
    "plt.axhline(y=test_threshold, color=\"g\")\n",
    "\n",
    "plt.ylim(bottom=0)\n",
    "plt.savefig('./out/original_edge_pred.pdf')"
   ],
   "metadata": {
    "collapsed": false,
    "ExecuteTime": {
     "end_time": "2023-05-10T09:20:47.205588508Z",
     "start_time": "2023-05-10T09:20:45.059601415Z"
    }
   }
  },
  {
   "cell_type": "markdown",
   "source": [],
   "metadata": {
    "collapsed": false
   }
  },
  {
   "cell_type": "code",
   "execution_count": 61,
   "outputs": [],
   "source": [
    "# generate edges of known distances\n",
    "radius = math.sqrt(args.rgg_avg_degree / ((args.graph_size - 1) * math.pi))\n",
    "edges = [\n",
    "    (d, graphs.gen_edge(d))\n",
    "    for d in np.linspace(0.0, 1.0, num=10000)  # distances\n",
    "    for _ in range(100)  # duplicates\n",
    "]\n",
    "\n",
    "values, labels = zip(*[\n",
    "    ([*u, *v], 1 if d <= radius else 0)\n",
    "    for (d, (u, v)) in edges\n",
    "])\n",
    "ds_values = torch.FloatTensor(values).to(device)\n",
    "ds_labels = torch.IntTensor(labels).to(device)\n",
    "dataset = TensorDataset(ds_values, ds_labels)\n",
    "dataloader = DataLoader(dataset, batch_size=10, shuffle=False)"
   ],
   "metadata": {
    "collapsed": false,
    "ExecuteTime": {
     "end_time": "2023-05-10T09:22:18.084206211Z",
     "start_time": "2023-05-10T09:21:58.177488686Z"
    }
   }
  },
  {
   "cell_type": "code",
   "execution_count": 62,
   "outputs": [],
   "source": [
    "# predict edges of known distances\n",
    "_, preds = evaluator.score(dataloader)\n",
    "df_edges = pd.DataFrame([\n",
    "    {\n",
    "        \"dist\": edges[i][0],\n",
    "        \"u\": edges[i][1][0],\n",
    "        \"v\": edges[i][1][1],\n",
    "        \"i\": i,\n",
    "        \"pred\": p\n",
    "    }\n",
    "    for i, p in enumerate(preds.cpu().numpy())\n",
    "])"
   ],
   "metadata": {
    "collapsed": false,
    "ExecuteTime": {
     "end_time": "2023-05-10T09:23:08.879562116Z",
     "start_time": "2023-05-10T09:22:18.085552813Z"
    }
   }
  },
  {
   "cell_type": "code",
   "execution_count": 65,
   "outputs": [
    {
     "name": "stderr",
     "output_type": "stream",
     "text": [
      "/tmp/ipykernel_50599/3579075104.py:2: UserWarning: Ignoring `palette` because no `hue` variable has been assigned.\n",
      "  g = sns.relplot(\n"
     ]
    },
    {
     "data": {
      "text/plain": "<Figure size 1000x500 with 1 Axes>",
      "image/png": "[encoded data removed]"
     },
     "metadata": {},
     "output_type": "display_data"
    }
   ],
   "source": [
    "# plot results\n",
    "g = sns.relplot(\n",
    "    data=df_edges, kind=\"line\",\n",
    "    x=\"dist\",\n",
    "    y=\"pred\",\n",
    "    errorbar=\"sd\",\n",
    "    palette=palette,\n",
    "    aspect=2,\n",
    ")\n",
    "g.set_axis_labels(\"Edge Distance\", \"Prediction\")\n",
    "\n",
    "plt.axvline(x=radius, color=\"r\")\n",
    "plt.axhline(y=test_threshold, color=\"g\")\n",
    "\n",
    "plt.ylim(bottom=0)\n",
    "plt.savefig('./out/original_edge_pred.pdf')"
   ],
   "metadata": {
    "collapsed": false,
    "ExecuteTime": {
     "end_time": "2023-05-10T09:24:05.203487804Z",
     "start_time": "2023-05-10T09:23:59.601795183Z"
    }
   }
  },
  {
   "cell_type": "code",
   "execution_count": null,
   "outputs": [],
   "source": [],
   "metadata": {
    "collapsed": false
   }
  }
 ],
 "metadata": {
  "kernelspec": {
   "display_name": "Python 3",
   "language": "python",
   "name": "python3"
  },
  "language_info": {
   "codemirror_mode": {
    "name": "ipython",
    "version": 2
   },
   "file_extension": ".py",
   "mimetype": "text/x-python",
   "name": "python",
   "nbconvert_exporter": "python",
   "pygments_lexer": "ipython2",
   "version": "2.7.6"
  }
 },
 "nbformat": 4,
 "nbformat_minor": 0
}
