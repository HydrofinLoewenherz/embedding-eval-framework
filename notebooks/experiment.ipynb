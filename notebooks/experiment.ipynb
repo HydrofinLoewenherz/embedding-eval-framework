{
 "cells": [
  {
   "cell_type": "code",
   "execution_count": null,
   "outputs": [],
   "source": [
    "# switch to main dir to fix imports\n",
    "import os\n",
    "\n",
    "if os.getcwd().endswith(\"notebooks\"):\n",
    "    os.chdir(\"..\")\n",
    "    print(\"using project root as working dir\")"
   ],
   "metadata": {
    "collapsed": false
   }
  },
  {
   "cell_type": "code",
   "execution_count": null,
   "outputs": [],
   "source": [
    "from dataclasses import asdict\n",
    "from datetime import datetime\n",
    "import time\n",
    "import seaborn as sns\n",
    "import pandas as pd\n",
    "import matplotlib.pyplot as plt\n",
    "import glob\n",
    "import torch\n",
    "import numpy as np\n",
    "import networkx as nx\n",
    "import math\n",
    "from torch.utils.data import TensorDataset, DataLoader\n",
    "\n",
    "from src.toroid import on_toroid\n",
    "from src.evaluator import Evaluator\n",
    "from src.args import Args, gridsearch_args\n",
    "import src.graph_visualization as graph_visualization\n",
    "import src.subgraphs as subgraphs\n",
    "import src.graphs as graphs"
   ],
   "metadata": {
    "collapsed": false
   }
  },
  {
   "cell_type": "code",
   "execution_count": null,
   "outputs": [],
   "source": [
    "# start autoreload\n",
    "%load_ext autoreload\n",
    "%autoreload 2\n",
    "\n",
    "# select device\n",
    "device = \"cuda\" if torch.cuda.is_available() else (\"mps\" if torch.backends.mps.is_available() else \"cpu\")\n",
    "print(f\"using {device} device\")\n",
    "\n",
    "# global seaborn settings\n",
    "sns.set_context(\"paper\")\n",
    "sns.set_style(\"darkgrid\", {\"grid.color\": \".8\"})\n",
    "palette = \"Dark2\""
   ],
   "metadata": {
    "collapsed": false
   }
  },
  {
   "cell_type": "markdown",
   "source": [
    "%load_ext tensorboard\n",
    "%tensorboard --logdir runs"
   ],
   "metadata": {
    "collapsed": false
   }
  },
  {
   "cell_type": "markdown",
   "source": [
    "# Load data frames"
   ],
   "metadata": {
    "collapsed": false
   }
  },
  {
   "cell_type": "code",
   "execution_count": null,
   "outputs": [],
   "source": [
    "# load data frame from folder\n",
    "path = \"./out/load\"\n",
    "files = glob.glob(os.path.join(path, \"*.csv.zip\"))\n",
    "df = pd.concat((pd.read_csv(f) for f in files), ignore_index=True)\n",
    "\n",
    "# either replace or concat\n",
    "df_result = df\n",
    "#df_result = pd.concat((df_result, df), ignore_index=True)"
   ],
   "metadata": {
    "collapsed": false
   }
  },
  {
   "cell_type": "code",
   "execution_count": null,
   "outputs": [],
   "source": [
    "# save data frame\n",
    "df_result.to_csv(os.path.join(path, \"./out/saved.csv.zip\"), index=False, compression=dict(method='zip', archive_name=f\"data.csv\"))"
   ],
   "metadata": {
    "collapsed": false
   }
  },
  {
   "cell_type": "markdown",
   "source": [
    "# Run experiment"
   ],
   "metadata": {
    "collapsed": false
   }
  },
  {
   "cell_type": "code",
   "execution_count": null,
   "outputs": [],
   "source": [
    "# experiment settings\n",
    "experiment_key = datetime.now().strftime(\"%d-%m--%H-%M\")\n",
    "\n",
    "args_list = gridsearch_args()\n",
    "repetitions = 3"
   ],
   "metadata": {
    "collapsed": false
   }
  },
  {
   "cell_type": "code",
   "execution_count": null,
   "outputs": [],
   "source": [
    "# run the experiment\n",
    "df_result = pd.DataFrame({})\n",
    "\n",
    "for run_i, args in enumerate(args_list):\n",
    "    # override args for specific test\n",
    "    args.graph_type = \"girg\"\n",
    "    # args.sort_dataset = True\n",
    "\n",
    "    # run with repetitions\n",
    "    for rep_i in range(repetitions):\n",
    "        print(f\"running evaluator: rep={rep_i}/{repetitions} args={run_i}/{len(args_list)}\")\n",
    "\n",
    "        graph = graphs.gen_graph(args)\n",
    "        evaluator = Evaluator(\n",
    "            graph=graph,\n",
    "            args=args,\n",
    "            writer_log_dir=f\"runs/{experiment_key}/{args.__hash__()}--{rep_i}\",\n",
    "            device=device\n",
    "        )\n",
    "\n",
    "        # train the model\n",
    "        start_time = time.time()\n",
    "        evaluator.train(\n",
    "            optimizer=torch.optim.Adam(evaluator.net.parameters(), lr=1e-3),\n",
    "            save_fig=False\n",
    "        )\n",
    "        end_time = time.time()\n",
    "        # test the model\n",
    "        test_loss, test_ap, test_f1 = evaluator.test(\n",
    "            epoch=args.epochs,\n",
    "            save_fig=False\n",
    "        )\n",
    "\n",
    "        df_result = pd.concat([\n",
    "            df_result,\n",
    "            pd.Series({\n",
    "                # run meta\n",
    "                \"run_index\": run_i,\n",
    "                \"rep_index\": rep_i,\n",
    "                \"run_time\": end_time - start_time,\n",
    "                # run results\n",
    "                \"loss\": test_loss,\n",
    "                \"ap\": test_ap,\n",
    "                \"f1\": test_f1,\n",
    "                # run args\n",
    "                **asdict(args),\n",
    "            }).to_frame().T\n",
    "        ], ignore_index=True)\n",
    "\n",
    "        # save results just in case the run fails mid run\n",
    "        df_result.to_csv(f\"./out/{experiment_key}.csv.zip\", index=False, compression=dict(method='zip', archive_name=f\"data.csv\"))"
   ],
   "metadata": {
    "collapsed": false
   }
  },
  {
   "cell_type": "markdown",
   "source": [
    "# Plot experiment results"
   ],
   "metadata": {
    "collapsed": false
   }
  },
  {
   "cell_type": "code",
   "execution_count": null,
   "outputs": [],
   "source": [
    "# mean score (bars) with/without sorted\n",
    "df_result_mean_ap = df_result.groupby([\"sort_dataset\"], as_index=False)[\"ap\"].mean().sort_values(by=['ap'])\n",
    "\n",
    "sns.catplot(\n",
    "    data=df_result_mean_ap,\n",
    "    x=\"sort_dataset\",\n",
    "    y=\"ap\",\n",
    "    palette=palette,\n",
    "    kind = \"bar\"\n",
    ")"
   ],
   "metadata": {
    "collapsed": false
   }
  },
  {
   "cell_type": "code",
   "execution_count": null,
   "outputs": [],
   "source": [
    "# mean score (bars) with/without sorted\n",
    "df_result_mean_ap = df_result.groupby([\"sort_dataset\"], as_index=False)[\"run_time\"].mean().sort_values(by=['run_time'])\n",
    "# print(df_result_mean_ap)\n",
    "\n",
    "sns.catplot(\n",
    "    data=df_result_mean_ap,\n",
    "    x=\"sort_dataset\",\n",
    "    y=\"run_time\",\n",
    "    palette=palette,\n",
    "    kind = \"bar\"\n",
    ")"
   ],
   "metadata": {
    "collapsed": false
   }
  },
  {
   "cell_type": "code",
   "execution_count": null,
   "outputs": [],
   "source": [
    "# mean score (bars)\n",
    "df_result_mean_ap = df_result.groupby([\"epoch_graph_alpha\", \"epoch_graph_size\"], as_index=False)[\"ap\"].mean().sort_values(by=['ap'])\n",
    "# print(df_result_mean_ap)\n",
    "\n",
    "sns.catplot(\n",
    "    data=df_result_mean_ap,\n",
    "    col=\"epoch_graph_size\",\n",
    "    x=\"epoch_graph_alpha\",\n",
    "    y=\"ap\",\n",
    "    palette=palette,\n",
    "    kind = \"bar\"\n",
    ")"
   ],
   "metadata": {
    "collapsed": false
   }
  },
  {
   "cell_type": "code",
   "execution_count": null,
   "outputs": [],
   "source": [
    "# score per epoch graph size and alpha (line with std)\n",
    "sns.relplot(\n",
    "    data=df_result, kind=\"line\",\n",
    "    hue=\"epoch_graph_size\",\n",
    "    x=\"epoch_graph_alpha\",\n",
    "    y=\"ap\",\n",
    "    errorbar=\"sd\",\n",
    "    palette=palette,\n",
    "    aspect=2,\n",
    ")"
   ],
   "metadata": {
    "collapsed": false
   }
  },
  {
   "cell_type": "code",
   "execution_count": null,
   "outputs": [],
   "source": [
    "# run time per graph and epoch graph size (line with std)\n",
    "g = sns.relplot(\n",
    "    data=df_result, kind=\"line\",\n",
    "    hue=\"note\",\n",
    "    x=\"graph_size\",\n",
    "    y=\"run_time\",\n",
    "    errorbar=\"sd\",\n",
    "    palette=\"Dark2\",\n",
    "    aspect=2,\n",
    ")\n",
    "g.set_axis_labels(\"Graph Size\", \"Run Time (in seconds)\")\n",
    "g._legend.set_title(\"Variant\")\n",
    "g.figure.savefig(\"./out/run_time.pdf\")"
   ],
   "metadata": {
    "collapsed": false
   }
  },
  {
   "cell_type": "code",
   "execution_count": null,
   "outputs": [],
   "source": [
    "# score\n",
    "g = sns.relplot(\n",
    "    data=df_result, kind=\"line\",\n",
    "    hue=\"note\",\n",
    "    x=\"epoch_graph_alpha\",\n",
    "    y=\"ap\",\n",
    "    errorbar=\"sd\",\n",
    "    palette=palette,\n",
    "    aspect=2,\n",
    ")\n",
    "g.set_axis_labels(\"Epoch Alpha\", \"Average Precision\")\n",
    "g._legend.set_title(\"Variant\")\n",
    "plt.savefig('./out/ap.pdf')"
   ],
   "metadata": {
    "collapsed": false
   }
  },
  {
   "cell_type": "code",
   "execution_count": null,
   "outputs": [],
   "source": [
    "# score per time\n",
    "df_result[\"rel_ap\"] = df_result['ap'] / df_result['run_time']\n",
    "g = sns.relplot(\n",
    "    data=df_result, kind=\"line\",\n",
    "    hue=\"note\",\n",
    "    x=\"graph_size\",\n",
    "    y=\"rel_ap\",\n",
    "    errorbar=\"sd\",\n",
    "    palette=palette,\n",
    "    aspect=2,\n",
    ")\n",
    "g.set_axis_labels(\"Graph Size\", \"Average Precision / Run Time (in seconds)\")\n",
    "g._legend.set_title(\"Variant\")\n",
    "plt.savefig('./out/rel_ap.pdf')"
   ],
   "metadata": {
    "collapsed": false
   }
  },
  {
   "cell_type": "code",
   "execution_count": null,
   "outputs": [],
   "source": [
    "# plot grid search result\n",
    "fig, axs = plt.subplots(ncols=3, figsize=(10 * 3, 10), sharey='all')\n",
    "for i, a in enumerate([0.0, 0.5, 1.0]):\n",
    "    df_hm = df_result\\\n",
    "        .loc[df_result[\"epoch_graph_alpha\"] == a]\\\n",
    "        .groupby([\"graph_size\", \"epoch_graph_size\"], as_index=False)[\"ap\"].mean()\n",
    "    g = sns.heatmap(\n",
    "        vmin=0.0,\n",
    "        vmax=1.0,\n",
    "        data=df_hm.pivot(\"graph_size\", \"epoch_graph_size\", \"ap\"),\n",
    "        ax=axs[i],\n",
    "        cbar=i==2,\n",
    "        cmap=\"flare\",\n",
    "    )\n",
    "    axs[i].set_title(f\"Epoch Graph Alpha = {a}\")\n",
    "    g.set(xlabel=\"Epoch Graph Size\", ylabel=\"Graph Size\")\n",
    "plt.tight_layout()\n",
    "plt.savefig('./out/grid_search_t_rgg.pdf')"
   ],
   "metadata": {
    "collapsed": false
   }
  },
  {
   "cell_type": "markdown",
   "source": [
    "# Predict RGG distance threshold"
   ],
   "metadata": {
    "collapsed": false
   }
  },
  {
   "cell_type": "code",
   "execution_count": null,
   "outputs": [],
   "source": [
    "# 1. train model\n",
    "args = Args()\n",
    "graph = graphs.gen_graph(args)\n",
    "evaluator = Evaluator(\n",
    "    graph=graph,\n",
    "    args=args,\n",
    "    writer_log_dir=f\"runs/test\",\n",
    "    device=device\n",
    ")\n",
    "print(\"training...\")\n",
    "evaluator.train(\n",
    "    optimizer=torch.optim.Adam(evaluator.net.parameters(), lr=1e-3),\n",
    "    save_fig=False\n",
    ")\n",
    "print(\"testing...\")\n",
    "test_loss, test_ap, test_f1 = evaluator.test(\n",
    "    epoch=args.epochs,\n",
    "    save_fig=True\n",
    ")\n",
    "print(f\"evaluator trained! ap: {test_ap}, f1: {test_f1}\")"
   ],
   "metadata": {
    "collapsed": false
   }
  },
  {
   "cell_type": "code",
   "execution_count": null,
   "outputs": [],
   "source": [
    "# 2. generate edges of known distances\n",
    "edges = [\n",
    "    (d, graphs.gen_edge(d))\n",
    "    for d in np.linspace(0.0, 0.2, num=1000) # distances\n",
    "    for _ in range(100) # duplicates\n",
    "]\n",
    "values, labels = zip(*[\n",
    "    ([*u, *v], 1)\n",
    "    for (_, (u, v)) in edges\n",
    "])\n",
    "ds_values = torch.FloatTensor(values).to(device)\n",
    "ds_labels = torch.IntTensor(labels).to(device)\n",
    "dataset = TensorDataset(ds_values, ds_labels)\n",
    "dataloader = DataLoader(dataset, batch_size=10, shuffle=False)"
   ],
   "metadata": {
    "collapsed": false
   }
  },
  {
   "cell_type": "code",
   "execution_count": null,
   "outputs": [],
   "source": [
    "# 3. predict edges of known distances\n",
    "_, preds = evaluator.score(dataloader)\n",
    "ap = evaluator.ap_score_fn(preds, ds_labels)\n",
    "f1 = evaluator.f1_score_fn(preds, ds_labels).item()\n",
    "\n",
    "df_edges = pd.DataFrame([\n",
    "    {\n",
    "        \"dist\": edges[i][0],\n",
    "        \"u\": edges[i][1][0],\n",
    "        \"v\": edges[i][1][1],\n",
    "        \"i\": i,\n",
    "        \"pred\": p\n",
    "    }\n",
    "    for i, p in enumerate(preds.cpu().numpy())\n",
    "])\n",
    "\n",
    "print(f\"ap: {ap}, f1: {f1}, max_pred: {df_edges['pred'].max()}\")"
   ],
   "metadata": {
    "collapsed": false
   }
  },
  {
   "cell_type": "code",
   "execution_count": null,
   "outputs": [],
   "source": [
    "# 4. plot results\n",
    "g = sns.relplot(\n",
    "    data=df_edges, kind=\"line\",\n",
    "    x=\"dist\",\n",
    "    y=\"pred\",\n",
    "    errorbar=\"sd\",\n",
    "    palette=palette,\n",
    "    aspect=2,\n",
    ")\n",
    "g.set_axis_labels(\"Edge Distance\", \"Prediction\")\n",
    "\n",
    "radius = math.sqrt(args.rg_avg_degree / (args.graph_size * math.pi))\n",
    "print(f\"radius: {radius}\")\n",
    "plt.axvline(x=radius, color=\"r\")\n",
    "plt.axvline(x=f1, color=\"g\")\n",
    "\n",
    "plt.ylim(bottom=0)\n",
    "plt.savefig('./out/edge_pred.pdf')"
   ],
   "metadata": {
    "collapsed": false
   }
  },
  {
   "cell_type": "code",
   "execution_count": null,
   "outputs": [],
   "source": [],
   "metadata": {
    "collapsed": false
   }
  }
 ],
 "metadata": {
  "kernelspec": {
   "display_name": "Python 3",
   "language": "python",
   "name": "python3"
  },
  "language_info": {
   "codemirror_mode": {
    "name": "ipython",
    "version": 2
   },
   "file_extension": ".py",
   "mimetype": "text/x-python",
   "name": "python",
   "nbconvert_exporter": "python",
   "pygments_lexer": "ipython2",
   "version": "2.7.6"
  }
 },
 "nbformat": 4,
 "nbformat_minor": 0
}
