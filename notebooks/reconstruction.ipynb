{
 "cells": [
  {
   "cell_type": "code",
   "execution_count": null,
   "metadata": {
    "collapsed": true
   },
   "outputs": [],
   "source": [
    "# switch to main dir to fix local imports\n",
    "import os\n",
    "if os.getcwd().endswith(\"notebooks\"):\n",
    "    os.chdir(\"..\")\n",
    "\n",
    "# package imports\n",
    "from datetime import datetime\n",
    "import seaborn as sns\n",
    "import pandas as pd\n",
    "import matplotlib.pyplot as plt\n",
    "import torch\n",
    "import numpy as np\n",
    "import math\n",
    "\n",
    "# local imports\n",
    "from src.evaluator import Evaluator\n",
    "from src.args import Args\n",
    "import src.graphs as graphs\n",
    "\n",
    "# start autoreload\n",
    "%load_ext autoreload\n",
    "%autoreload 2\n",
    "\n",
    "# select device for machine learning\n",
    "device = \"cuda\" if torch.cuda.is_available() else (\"mps\" if torch.backends.mps.is_available() else \"cpu\")\n",
    "print(f\"using device: {device}\")\n",
    "\n",
    "# settings for plots (seaborn/matplotlib)\n",
    "sns.set_context(\"paper\")\n",
    "sns.set_style(\"darkgrid\", {\"grid.color\": \".8\"})\n",
    "palette = \"Dark2\""
   ]
  },
  {
   "cell_type": "markdown",
   "source": [
    "# RGG threshold reconstruction\n",
    "\n",
    "This experiment tries to visualize what the framework learned about RGGs. For RGGs two nodes are adjacent if their distance is smaller than some radius/threshold. We expect a framework that was trained on an RGG (and yields a good score) to \"understand\" this rule.\n",
    "\n",
    "As such we plot what the framework predicts for different node pairs (distances). We expect that the resulting plot to indicate low numbers of false negatives and false positives."
   ],
   "metadata": {
    "collapsed": false
   }
  },
  {
   "cell_type": "code",
   "execution_count": null,
   "outputs": [],
   "source": [
    "# experiment setup\n",
    "args = Args(\n",
    "    graph_type=\"rgg\",\n",
    "    graph_size=1000,\n",
    "    subgraph_alg=\"rjs\",\n",
    "    subgraph_size=100,\n",
    "    subgraph_alpha=0.15,\n",
    ")\n",
    "radius = math.sqrt(args.rgg_avg_degree / ((args.graph_size - 1) * math.pi))\n",
    "experiment_key = f\"rgg-threshold--{datetime.now().strftime('%d-%m--%H-%M')}\""
   ],
   "metadata": {
    "collapsed": false
   }
  },
  {
   "cell_type": "code",
   "execution_count": null,
   "outputs": [],
   "source": [
    "# generate graph and train evaluator\n",
    "graph = graphs.gen_graph(args)\n",
    "evaluator = Evaluator(\n",
    "    graph=graph,\n",
    "    args=args,\n",
    "    writer_log_dir=f\"runs/{experiment_key}--{args.__hash__()}\",\n",
    "    device=device\n",
    ")\n",
    "# train the model\n",
    "evaluator.train(\n",
    "    optimizer=torch.optim.Adam(evaluator.net.parameters(), lr=1e-3),\n",
    "    pbar=True\n",
    ")\n",
    "# test the model\n",
    "test_loss, test_ap, test_f1, test_threshold = evaluator.test(\n",
    "    epoch=args.epochs\n",
    ")\n",
    "# print train results\n",
    "print(f\"model performance: \"\n",
    "      f\"\\n- loss: {test_loss}\"\n",
    "      f\"\\n- f1: {test_f1}\"\n",
    "      f\"\\n- ap: {test_ap}\"\n",
    "      f\"\\n- th: {test_threshold}\")"
   ],
   "metadata": {
    "collapsed": false
   }
  },
  {
   "cell_type": "code",
   "execution_count": null,
   "outputs": [],
   "source": [
    "# generate distance data\n",
    "_, preds = evaluator.score(evaluator.whole_dataset.dataloader)\n",
    "\n",
    "precision, recall, thresholds = evaluator.pr_curve_fn(preds, evaluator.whole_dataset.ds_labels)\n",
    "f1_scores = (2 * precision * recall) / (precision + recall)\n",
    "threshold = thresholds[np.argmax(f1_scores.cpu())].item()\n",
    "\n",
    "positions = graph.nodes(data=\"pos\")\n",
    "df_edges = pd.DataFrame([\n",
    "    {\n",
    "        \"dist\": math.dist(positions[u], positions[v]),\n",
    "        \"dist_rounded\": round(math.dist(positions[u], positions[v]), 2),\n",
    "        \"label\": 1 if math.dist(positions[u], positions[v]) <= radius else 0,\n",
    "        \"u\": u,\n",
    "        \"v\": v,\n",
    "        \"uf\": uf,\n",
    "        \"vf\": vf,\n",
    "        \"up\": positions[u],\n",
    "        \"vp\": positions[v],\n",
    "        \"i\": i,\n",
    "        \"pred\": preds[i].item(),\n",
    "        \"pred_label\": 1 if preds[i].item() >= threshold else 0,\n",
    "    }\n",
    "    for i, ((u, uf), (v, vf)) in enumerate(evaluator.whole_dataset.node_feature_pairs)\n",
    "])"
   ],
   "metadata": {
    "collapsed": false
   }
  },
  {
   "cell_type": "code",
   "execution_count": null,
   "outputs": [],
   "source": [
    "# plot distance data\n",
    "g = sns.relplot(\n",
    "    kind=\"line\",\n",
    "    errorbar=\"sd\",\n",
    "    data=df_edges,\n",
    "    x=\"dist_rounded\",\n",
    "    y=\"pred\",\n",
    "    palette=palette,\n",
    "    aspect=2,\n",
    ")\n",
    "g.set_axis_labels(\"Edge Distance\", \"Prediction\")\n",
    "\n",
    "plt.axvline(x=radius, color=\"r\")\n",
    "plt.axhline(y=threshold, color=\"g\")\n",
    "plt.ylim(bottom=0)\n",
    "plt.xlim(left=-0.01, right=0.21)\n",
    "\n",
    "plt.tight_layout()\n",
    "plt.savefig('./out/original_edge_pred.pdf')"
   ],
   "metadata": {
    "collapsed": false
   }
  },
  {
   "cell_type": "markdown",
   "source": [
    "# Graph reconstructions\n",
    "\n",
    "This experiment plots the reconstruction of a graph (GIRG) by the framework. We expect the reconstructed graph to be similar to the original graph."
   ],
   "metadata": {
    "collapsed": false
   }
  },
  {
   "cell_type": "code",
   "execution_count": null,
   "outputs": [],
   "source": [
    "# experiment setup\n",
    "args = Args(\n",
    "    graph_type=\"girg\",\n",
    "    graph_size=1000,\n",
    "    subgraph_alg=\"rjs\",\n",
    "    subgraph_size=250,\n",
    "    subgraph_alpha=1.0,\n",
    ")\n",
    "radius = math.sqrt(args.rgg_avg_degree / ((args.graph_size - 1) * math.pi))\n",
    "experiment_key = f\"rgg-reconstruction--{datetime.now().strftime('%d-%m--%H-%M')}\""
   ],
   "metadata": {
    "collapsed": false
   }
  },
  {
   "cell_type": "code",
   "execution_count": null,
   "outputs": [],
   "source": [
    "# generate graph and train evaluator\n",
    "graph = graphs.gen_graph(args)\n",
    "evaluator = Evaluator(\n",
    "    graph=graph,\n",
    "    args=args,\n",
    "    writer_log_dir=f\"runs/{experiment_key}--{args.__hash__()}\",\n",
    "    device=device\n",
    ")\n",
    "# train the model\n",
    "evaluator.train(\n",
    "    optimizer=torch.optim.Adam(evaluator.net.parameters(), lr=1e-3),\n",
    "    pbar=True\n",
    ")\n",
    "# test the model\n",
    "test_loss, test_ap, test_f1, test_threshold = evaluator.test(\n",
    "    epoch=args.epochs\n",
    ")\n",
    "\n",
    "print(f\"model performance:\"\n",
    "      f\"\\n- loss: {test_loss}\"\n",
    "      f\"\\n- f1: {test_f1}\"\n",
    "      f\"\\n- ap: {test_ap}\"\n",
    "      f\"\\n- th: {test_threshold}\")"
   ],
   "metadata": {
    "collapsed": false
   }
  },
  {
   "cell_type": "code",
   "execution_count": null,
   "outputs": [],
   "source": [
    "# plot the results\n",
    "evaluator.eval(toroid=True)\n",
    "\n",
    "plt.tight_layout(pad=2)\n",
    "plt.savefig('./out/reconstruction_girg.pdf')"
   ],
   "metadata": {
    "collapsed": false
   }
  },
  {
   "cell_type": "markdown",
   "source": [
    "# Graph reconstructions - false negatives and false positives\n",
    "\n",
    "Like the previous experiment, this experiment plots the reconstruction of a graph (GIRG) by the framework. But instead of showing the prediction for every edge, it highlights the false negatives (edges that were not predicted but should be) and false positives (edges that were predicted but shouldn't be)."
   ],
   "metadata": {
    "collapsed": false
   }
  },
  {
   "cell_type": "code",
   "execution_count": null,
   "outputs": [],
   "source": [
    "# experiment setup\n",
    "args = Args(\n",
    "    graph_type=\"rgg\",\n",
    "    graph_size=1000,\n",
    "    subgraph_alg=\"rjs\",\n",
    "    subgraph_size=100,\n",
    "    subgraph_alpha=0.15,\n",
    ")\n",
    "radius = math.sqrt(args.rgg_avg_degree / ((args.graph_size - 1) * math.pi))\n",
    "experiment_key = f\"rgg-reconstruction-fn-fp--{datetime.now().strftime('%d-%m--%H-%M')}\""
   ],
   "metadata": {
    "collapsed": false
   }
  },
  {
   "cell_type": "code",
   "execution_count": null,
   "outputs": [],
   "source": [
    "# generate graph and train evaluator\n",
    "graph = graphs.gen_graph(args)\n",
    "evaluator = Evaluator(\n",
    "    graph=graph,\n",
    "    args=args,\n",
    "    writer_log_dir=f\"runs/{experiment_key}--{args.__hash__()}\",\n",
    "    device=device\n",
    ")\n",
    "# train the model\n",
    "evaluator.train(\n",
    "    optimizer=torch.optim.Adam(evaluator.net.parameters(), lr=1e-3),\n",
    "    pbar=True\n",
    ")\n",
    "# test the model\n",
    "test_loss, test_ap, test_f1, test_threshold = evaluator.test(\n",
    "    epoch=args.epochs\n",
    ")\n",
    "\n",
    "print(f\"model performance:\"\n",
    "      f\"\\n- loss: {test_loss}\"\n",
    "      f\"\\n- f1: {test_f1}\"\n",
    "      f\"\\n- ap: {test_ap}\"\n",
    "      f\"\\n- th: {test_threshold}\")"
   ],
   "metadata": {
    "collapsed": false
   }
  },
  {
   "cell_type": "code",
   "execution_count": null,
   "outputs": [],
   "source": [
    "# plot the results\n",
    "fig = evaluator.classify(toroid=False)\n",
    "\n",
    "plt.tight_layout(pad=2)\n",
    "plt.savefig('./out/classification_all_reconstruction_girg.pdf')"
   ],
   "metadata": {
    "collapsed": false
   }
  },
  {
   "cell_type": "code",
   "execution_count": null,
   "outputs": [],
   "source": [],
   "metadata": {
    "collapsed": false
   }
  }
 ],
 "metadata": {
  "kernelspec": {
   "display_name": "Python 3",
   "language": "python",
   "name": "python3"
  },
  "language_info": {
   "codemirror_mode": {
    "name": "ipython",
    "version": 2
   },
   "file_extension": ".py",
   "mimetype": "text/x-python",
   "name": "python",
   "nbconvert_exporter": "python",
   "pygments_lexer": "ipython2",
   "version": "2.7.6"
  }
 },
 "nbformat": 4,
 "nbformat_minor": 0
}
