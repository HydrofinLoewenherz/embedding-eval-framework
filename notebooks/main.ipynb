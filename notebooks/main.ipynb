{
 "cells": [
  {
   "cell_type": "markdown",
   "source": [
    "# Initialization"
   ],
   "metadata": {
    "collapsed": false
   }
  },
  {
   "cell_type": "code",
   "execution_count": null,
   "outputs": [],
   "source": [
    "import os\n",
    "\n",
    "if os.getcwd().endswith(\"notebooks\"):\n",
    "    os.chdir(\"..\")\n",
    "    print(\"using project root as working dir\")"
   ],
   "metadata": {
    "collapsed": false
   }
  },
  {
   "cell_type": "code",
   "execution_count": null,
   "outputs": [],
   "source": [
    "%load_ext autoreload\n",
    "%autoreload 2"
   ],
   "metadata": {
    "collapsed": false
   }
  },
  {
   "cell_type": "code",
   "execution_count": null,
   "outputs": [],
   "source": [
    "%load_ext tensorboard\n",
    "%tensorboard --logdir runs"
   ],
   "metadata": {
    "collapsed": false
   }
  },
  {
   "cell_type": "code",
   "execution_count": null,
   "outputs": [],
   "source": [
    "import torch\n",
    "\n",
    "device = \"cuda\" if torch.cuda.is_available() else (\"mps\" if torch.backends.mps.is_available() else \"cpu\")\n",
    "print(f\"using {device} device\")"
   ],
   "metadata": {
    "collapsed": false
   }
  },
  {
   "cell_type": "markdown",
   "source": [
    "# Run"
   ],
   "metadata": {
    "collapsed": false
   }
  },
  {
   "cell_type": "code",
   "execution_count": null,
   "outputs": [],
   "source": [
    "from src.graph import gen_graph\n",
    "from dataclasses import asdict\n",
    "from src.args import gridsearch_args, Args\n",
    "from datetime import datetime\n",
    "import time\n",
    "import seaborn as sns\n",
    "import pandas as pd\n",
    "import matplotlib.pyplot as plt\n",
    "import glob\n",
    "\n",
    "from src.evaluator import Evaluator"
   ],
   "metadata": {
    "collapsed": false
   }
  },
  {
   "cell_type": "code",
   "execution_count": null,
   "outputs": [],
   "source": [
    "experiment = dict(\n",
    "    key=datetime.now().strftime(\"%d-%m--%H-%M\"),\n",
    "    reps=3,\n",
    "    skip_to=0,\n",
    "    args=gridsearch_args(),\n",
    ")\n",
    "df_result = pd.DataFrame({})\n",
    "\n",
    "run_len = len(experiment['args']) * experiment['reps']\n",
    "for i, args in enumerate(experiment[\"args\"]):\n",
    "    # override args for specific test\n",
    "    args.note = \"no epoch subsampling\"\n",
    "\n",
    "    # skip to beginning of specified repetition block\n",
    "    if i < int(experiment['skip_to'] / experiment['reps']):\n",
    "        print(f\"skipping {i * experiment['reps']} to {(i + 1) * experiment['reps'] - 1}\")\n",
    "        continue\n",
    "\n",
    "    # run with repetitions\n",
    "    for rep in range(experiment[\"reps\"]):\n",
    "        run_index = i * experiment['reps'] + rep\n",
    "        print(f\"running evaluator {run_index}/{run_len}\")\n",
    "\n",
    "        graph, dim = gen_graph(args)\n",
    "        evaluator = Evaluator(\n",
    "            graph=graph,\n",
    "            dim=dim,\n",
    "            args=args,\n",
    "            writer_log_dir=f\"runs/{experiment['key']}/s{args.graph_size}--all-train--{rep}\",\n",
    "            device=device\n",
    "        )\n",
    "        start_time = time.time()\n",
    "        evaluator.train(\n",
    "            optimizer=torch.optim.Adam(evaluator.net.parameters(), lr=1e-3),\n",
    "            save_fig=False\n",
    "        )\n",
    "        end_time = time.time()\n",
    "        test_loss, test_ap, test_f1 = evaluator.test(\n",
    "            epoch=args.epochs,\n",
    "            save_fig=True\n",
    "        )\n",
    "\n",
    "        df_result = pd.concat([\n",
    "            df_result,\n",
    "            pd.Series({\n",
    "                # run meta\n",
    "                \"run_index\": run_index,\n",
    "                \"run_time\": end_time - start_time,\n",
    "                # run results\n",
    "                \"loss\": test_loss,\n",
    "                \"ap\": test_ap,\n",
    "                \"f1\": test_f1,\n",
    "                # run args\n",
    "                **asdict(args),\n",
    "            }).to_frame().T\n",
    "        ], ignore_index=True)\n",
    "\n",
    "    # save results just in case the run fails mid run\n",
    "    df_result.to_csv(f\"{experiment['key']}.csv.zip\", index=False, compression=dict(method='zip', archive_name=f\"{experiment['key']}.csv\"))"
   ],
   "metadata": {
    "collapsed": false
   }
  },
  {
   "cell_type": "markdown",
   "source": [
    "# Print Results"
   ],
   "metadata": {
    "collapsed": false
   }
  },
  {
   "cell_type": "code",
   "execution_count": null,
   "outputs": [],
   "source": [
    "# mean score (bars)\n",
    "df_result_mean_ap = df_result.groupby([\"graph_size\", \"type\"], as_index=False)[\"ap\"].mean().sort_values(by=['ap'])\n",
    "# print(df_result_mean_ap)\n",
    "\n",
    "sns.catplot(\n",
    "    data=df_result_mean_ap,\n",
    "    col=\"type\",\n",
    "    x=\"graph_size\",\n",
    "    y=\"ap\",\n",
    "    palette=\"Spectral\",\n",
    "    kind = \"bar\"\n",
    ")"
   ],
   "metadata": {
    "collapsed": false
   }
  },
  {
   "cell_type": "code",
   "execution_count": null,
   "outputs": [],
   "source": [
    "# score per epoch graph size and alpha (line with std)\n",
    "sns.relplot(\n",
    "    data=df_result, kind=\"line\",\n",
    "    hue=\"epoch_graph_size\",\n",
    "    x=\"epoch_graph_alpha\",\n",
    "    y=\"ap\",\n",
    "    errorbar=\"sd\",\n",
    "    palette=\"Spectral\",\n",
    "    aspect=2,\n",
    ")"
   ],
   "metadata": {
    "collapsed": false
   }
  },
  {
   "cell_type": "code",
   "execution_count": null,
   "outputs": [],
   "source": [
    "# run time per graph and epoch graph size (line with std)\n",
    "g = sns.relplot(\n",
    "    data=df_result, kind=\"line\",\n",
    "    hue=\"type\",\n",
    "    x=\"graph_size\",\n",
    "    y=\"run_time\",\n",
    "    errorbar=\"sd\",\n",
    "    palette=\"Spectral\",\n",
    "    aspect=2,\n",
    ")\n",
    "g.set_axis_labels(\"Graph Size\", \"Run Time (in seconds)\")\n",
    "g._legend.set_title(\"Variant\")\n",
    "plt.savefig('run_time.pdf')"
   ],
   "metadata": {
    "collapsed": false
   }
  },
  {
   "cell_type": "code",
   "execution_count": null,
   "outputs": [],
   "source": [
    "# score\n",
    "g = sns.relplot(\n",
    "    data=df_result, kind=\"line\",\n",
    "    hue=\"type\",\n",
    "    x=\"graph_size\",\n",
    "    y=\"ap\",\n",
    "    errorbar=\"sd\",\n",
    "    palette=\"Spectral\",\n",
    "    aspect=2,\n",
    ")\n",
    "g.set_axis_labels(\"Graph Size\", \"Average Precision\")\n",
    "g._legend.set_title(\"Variant\")\n",
    "plt.savefig('ap.pdf')"
   ],
   "metadata": {
    "collapsed": false
   }
  },
  {
   "cell_type": "code",
   "execution_count": null,
   "outputs": [],
   "source": [
    "sns.scatterplot(\n",
    "    data=df_result,\n",
    "    hue=\"type\",\n",
    "    x=\"graph_size\",\n",
    "    y=\"run_time\",\n",
    "    palette=\"Spectral\"\n",
    ")"
   ],
   "metadata": {
    "collapsed": false
   }
  },
  {
   "cell_type": "code",
   "execution_count": null,
   "outputs": [],
   "source": [
    "# score per time\n",
    "df_result[\"rel_ap\"] = df_result['ap'] / df_result['run_time']\n",
    "g = sns.relplot(\n",
    "    data=df_result, kind=\"line\",\n",
    "    hue=\"type\",\n",
    "    x=\"graph_size\",\n",
    "    y=\"rel_ap\",\n",
    "    errorbar=\"sd\",\n",
    "    palette=\"Spectral\",\n",
    "    aspect=2,\n",
    ")\n",
    "g.set_axis_labels(\"Graph Size\", \"Average Precision / Run Time (in seconds)\")\n",
    "g._legend.set_title(\"Variant\")\n",
    "plt.savefig('rel_ap.pdf')"
   ],
   "metadata": {
    "collapsed": false
   }
  },
  {
   "cell_type": "markdown",
   "source": [
    "# Load data frames"
   ],
   "metadata": {
    "collapsed": false
   }
  },
  {
   "cell_type": "code",
   "execution_count": null,
   "outputs": [],
   "source": [
    "# load data frame from folder\n",
    "path = \"./results/graph-size/with_sub\"\n",
    "all_files = glob.glob(os.path.join(path, \"*.csv.zip\"))\n",
    "df = pd.concat((pd.read_csv(f) for f in all_files), ignore_index=True)\n",
    "#df_result.to_csv(os.path.join(path, \"complete.csv.zip\"), index=False, compression=dict(method='zip', archive_name=f\"complete.csv\"))\n",
    "\n",
    "df_result_count = df.groupby([\"run_index\"], as_index=False)[\"run_index\"].size()\n",
    "sns.catplot(\n",
    "    data=df_result_count,\n",
    "    x=\"run_index\",\n",
    "    y=\"size\",\n",
    "    palette=\"Spectral\",\n",
    "    kind=\"bar\"\n",
    ")"
   ],
   "metadata": {
    "collapsed": false
   }
  },
  {
   "cell_type": "code",
   "execution_count": null,
   "outputs": [],
   "source": [
    "# use data frame\n",
    "df_result = df"
   ],
   "metadata": {
    "collapsed": false
   }
  },
  {
   "cell_type": "code",
   "execution_count": null,
   "outputs": [],
   "source": [
    "# save data frame\n",
    "df_result.to_csv(os.path.join(path, \"out.csv.zip\"), index=False, compression=dict(method='zip', archive_name=f\"out.csv\"))"
   ],
   "metadata": {
    "collapsed": false
   }
  },
  {
   "cell_type": "code",
   "execution_count": null,
   "outputs": [],
   "source": [],
   "metadata": {
    "collapsed": false
   }
  }
 ],
 "metadata": {
  "kernelspec": {
   "display_name": "Python 3",
   "language": "python",
   "name": "python3"
  },
  "language_info": {
   "codemirror_mode": {
    "name": "ipython",
    "version": 2
   },
   "file_extension": ".py",
   "mimetype": "text/x-python",
   "name": "python",
   "nbconvert_exporter": "python",
   "pygments_lexer": "ipython2",
   "version": "2.7.6"
  }
 },
 "nbformat": 4,
 "nbformat_minor": 0
}
