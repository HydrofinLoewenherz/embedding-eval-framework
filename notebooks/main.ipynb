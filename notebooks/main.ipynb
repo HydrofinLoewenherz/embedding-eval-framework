{
 "cells": [
  {
   "cell_type": "markdown",
   "source": [
    "# Initialization"
   ],
   "metadata": {
    "collapsed": false
   }
  },
  {
   "cell_type": "code",
   "execution_count": null,
   "outputs": [],
   "source": [
    "import os\n",
    "\n",
    "if os.getcwd().endswith(\"notebooks\"):\n",
    "    os.chdir(\"..\")\n",
    "    print(\"using project root as working dir\")"
   ],
   "metadata": {
    "collapsed": false
   }
  },
  {
   "cell_type": "code",
   "execution_count": null,
   "outputs": [],
   "source": [
    "%load_ext autoreload\n",
    "%autoreload 2"
   ],
   "metadata": {
    "collapsed": false
   }
  },
  {
   "cell_type": "code",
   "execution_count": null,
   "outputs": [],
   "source": [
    "%load_ext tensorboard\n",
    "%tensorboard --logdir runs"
   ],
   "metadata": {
    "collapsed": false
   }
  },
  {
   "cell_type": "code",
   "execution_count": null,
   "outputs": [],
   "source": [
    "import torch\n",
    "\n",
    "device = \"cuda\" if torch.cuda.is_available() else (\"mps\" if torch.backends.mps.is_available() else \"cpu\")\n",
    "print(f\"using {device} device\")"
   ],
   "metadata": {
    "collapsed": false
   }
  },
  {
   "cell_type": "markdown",
   "source": [
    "# Run"
   ],
   "metadata": {
    "collapsed": false
   }
  },
  {
   "cell_type": "code",
   "execution_count": null,
   "outputs": [],
   "source": [
    "from src.graph import random_geometric_graph, random_graph\n",
    "from dataclasses import asdict\n",
    "from src.args import gridsearch_args, Args\n",
    "from datetime import datetime\n",
    "import time\n",
    "import seaborn as sns\n",
    "import pandas as pd\n",
    "\n",
    "from src.evaluator import Evaluator\n",
    "\n",
    "experiment = dict(\n",
    "    key=datetime.now().strftime(\"%d-%m--%H-%M\"),\n",
    "    reps=3,\n",
    "    args=gridsearch_args(),\n",
    ")\n",
    "df_result = pd.DataFrame({})\n",
    "\n",
    "run_len = len(experiment['args']) * experiment['reps']\n",
    "for i, args in enumerate(experiment[\"args\"]):\n",
    "    # override args for specific test\n",
    "    # args.graph_type = \"random\"\n",
    "    # args.early_stopping = False\n",
    "    # args.epochs = 150\n",
    "\n",
    "    for rep in range(experiment[\"reps\"]):\n",
    "        run_index = i * experiment['reps'] + rep\n",
    "        print(f\"running evaluator {run_index}/{run_len}\")\n",
    "\n",
    "        if args.graph_type == \"rgg\":\n",
    "            graph = random_geometric_graph(\n",
    "                size=args.graph_size,\n",
    "                radius=args.rgg_radius\n",
    "            )\n",
    "        elif args.graph_type == \"random\":\n",
    "            graph = random_graph(\n",
    "                size=args.graph_size\n",
    "            )\n",
    "        else:\n",
    "            raise ValueError(f\"invalid graph type: {args.graph_type}\")\n",
    "\n",
    "        evaluator = Evaluator(\n",
    "            graph=graph,\n",
    "            args=args,\n",
    "            writer_log_dir=f\"runs/{experiment['key']}/s{args.epoch_graph_size}-a{args.epoch_graph_alpha}-b{args.epoch_graph_boredom_pth}-l{args.layers}xs{args.layer_size}--{rep}\",\n",
    "            device=device\n",
    "        )\n",
    "        start_time = time.time()\n",
    "        evaluator.train(\n",
    "            optimizer=torch.optim.Adam(evaluator.net.parameters(), lr=1e-3),\n",
    "            save_fig=False\n",
    "        )\n",
    "        end_time = time.time()\n",
    "        test_loss, test_ap, test_f1 = evaluator.test(\n",
    "            epoch=args.epochs,\n",
    "            save_fig=True\n",
    "        )\n",
    "\n",
    "        df_result = pd.concat([\n",
    "            df_result,\n",
    "            pd.Series({\n",
    "                # run meta\n",
    "                \"run_index\": run_index,\n",
    "                \"run_time\": end_time - start_time,\n",
    "                # run results\n",
    "                \"loss\": test_loss,\n",
    "                \"ap\": test_ap,\n",
    "                \"f1\": test_f1,\n",
    "                # run args\n",
    "                **asdict(args),\n",
    "            }).to_frame().T\n",
    "        ], ignore_index=True)\n",
    "\n",
    "    # save results just in case the run fails mid run\n",
    "    df_result.to_csv(f\"{experiment['key']}.csv.zip\", index=False, compression=dict(method='zip', archive_name=f\"{experiment['key']}.csv\"))"
   ],
   "metadata": {
    "collapsed": false
   }
  },
  {
   "cell_type": "markdown",
   "source": [
    "# Results"
   ],
   "metadata": {
    "collapsed": false
   }
  },
  {
   "cell_type": "code",
   "execution_count": null,
   "outputs": [],
   "source": [
    "# mean score (bars)\n",
    "df_result_mean_ap = df_result.groupby([\"epoch_graph_size\", \"epoch_graph_alpha\"], as_index=False)[\"ap\"].mean().sort_values(by=['ap'])\n",
    "print(df_result_mean_ap)\n",
    "\n",
    "sns.catplot(\n",
    "    data=df_result_mean_ap,\n",
    "    col=\"epoch_graph_size\",\n",
    "    x=\"epoch_graph_alpha\",\n",
    "    y=\"ap\",\n",
    "    palette=\"Spectral\",\n",
    "    kind = \"bar\"\n",
    ")"
   ],
   "metadata": {
    "collapsed": false
   }
  },
  {
   "cell_type": "code",
   "execution_count": null,
   "outputs": [],
   "source": [
    "# score per epoch graph size and alpha (line with std)\n",
    "sns.relplot(\n",
    "    data=df_result, kind=\"line\",\n",
    "    hue=\"epoch_graph_size\",\n",
    "    x=\"epoch_graph_alpha\",\n",
    "    y=\"ap\",\n",
    "    errorbar=\"sd\",\n",
    "    palette=\"Spectral\",\n",
    "    aspect=2,\n",
    ")"
   ],
   "metadata": {
    "collapsed": false
   }
  },
  {
   "cell_type": "code",
   "execution_count": null,
   "outputs": [],
   "source": [
    "# run time per graph and epoch graph size (line with std)\n",
    "sns.relplot(\n",
    "    data=df_result, kind=\"line\",\n",
    "    hue=\"epoch_graph_size\",\n",
    "    x=\"graph_size\",\n",
    "    y=\"run_time\",\n",
    "    errorbar=\"sd\",\n",
    "    palette=\"Spectral\",\n",
    "    aspect=2,\n",
    ")"
   ],
   "metadata": {
    "collapsed": false
   }
  },
  {
   "cell_type": "markdown",
   "source": [
    "# Next Tasks\n",
    "\n",
    "- bigger graphs\n",
    "    - how much more time?\n",
    "- different graph types\n",
    "    - girgs (https://github.com/chistopher/girgs) is like power law\n",
    "- rgg: reconstruct threshold radius based on test nodes and f1-score\n",
    "\n",
    "# Writing\n",
    "- best 10-20 pages\n",
    "- until 18."
   ],
   "metadata": {
    "collapsed": false
   }
  },
  {
   "cell_type": "code",
   "execution_count": null,
   "outputs": [],
   "source": [],
   "metadata": {
    "collapsed": false
   }
  }
 ],
 "metadata": {
  "kernelspec": {
   "display_name": "Python 3",
   "language": "python",
   "name": "python3"
  },
  "language_info": {
   "codemirror_mode": {
    "name": "ipython",
    "version": 2
   },
   "file_extension": ".py",
   "mimetype": "text/x-python",
   "name": "python",
   "nbconvert_exporter": "python",
   "pygments_lexer": "ipython2",
   "version": "2.7.6"
  }
 },
 "nbformat": 4,
 "nbformat_minor": 0
}
