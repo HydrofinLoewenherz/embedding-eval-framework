{
 "cells": [
  {
   "cell_type": "code",
   "execution_count": 11,
   "outputs": [],
   "source": [
    "import os\n",
    "\n",
    "if os.getcwd().endswith(\"notebooks\"):\n",
    "    os.chdir(\"..\")\n",
    "    print(\"using project root as working dir\")"
   ],
   "metadata": {
    "collapsed": false
   }
  },
  {
   "cell_type": "code",
   "execution_count": 12,
   "outputs": [],
   "source": [
    "from dataclasses import dataclass\n",
    "import numpy as np\n",
    "import matplotlib.pyplot as plt\n",
    "import matplotlib as mpl\n",
    "import networkx as nx\n",
    "import seaborn as sns\n",
    "import math\n",
    "from tqdm.notebook import tqdm\n",
    "import random\n",
    "from typing import List, Tuple\n",
    "\n",
    "\n",
    "@dataclass\n",
    "class Args:\n",
    "    random_seed = None\n",
    "    # torch\n",
    "    batch_size = 10\n",
    "    epochs = 100\n",
    "    layers = 10\n",
    "    layer_size = 16\n",
    "    train_size = 0.8\n",
    "    wandb = False\n",
    "    # graph\n",
    "    graph_size = 100\n",
    "    graph_shape = 'disc'\n",
    "    rg_radius = 0.15\n",
    "\n",
    "args = Args()"
   ],
   "metadata": {
    "collapsed": false
   }
  },
  {
   "cell_type": "code",
   "execution_count": 13,
   "outputs": [
    {
     "name": "stdout",
     "output_type": "stream",
     "text": [
      "using cuda device\n"
     ]
    }
   ],
   "source": [
    "import torch\n",
    "from torch import nn\n",
    "from torch.utils.data import Dataset, TensorDataset, DataLoader, WeightedRandomSampler\n",
    "from sklearn.metrics import classification_report\n",
    "\n",
    "\n",
    "# Get cpu or gpu device for training.\n",
    "device = \"cuda\" if torch.cuda.is_available() else (\"mps\" if torch.backends.mps.is_available() else \"cpu\")\n",
    "print(f\"using {device} device\")"
   ],
   "metadata": {
    "collapsed": false
   }
  },
  {
   "cell_type": "code",
   "execution_count": 14,
   "outputs": [],
   "source": [
    "NodePosition = Tuple[float, float]\n",
    "NodePositions = List[NodePosition]\n",
    "NodeIndexPairs = List[Tuple[int, int]]\n",
    "\n",
    "def gen_nodes(size: int, shape: str = \"disc\") -> NodePositions:\n",
    "    if shape == 'disc':\n",
    "        return __gen_nodes_disc(size)\n",
    "    else:\n",
    "        raise f'unsupported node shape: {shape}'\n",
    "\n",
    "\n",
    "def __gen_nodes_disc(amount: int) -> NodePositions:\n",
    "    points = []\n",
    "    with tqdm(total=amount, desc=\"generating random-uniform nodes on disc\") as pbar:\n",
    "        while len(points) < amount:\n",
    "            p = (random.uniform(0, 1), random.uniform(0, 1))\n",
    "            d = (p[0] - 0.5, p[1] - 0.5)\n",
    "            if math.sqrt(d[0] * d[0] + d[1] * d[1]) > 0.5:\n",
    "                continue\n",
    "            points.append(p)\n",
    "            pbar.update(1)\n",
    "    return points\n",
    "\n",
    "\n",
    "def get_node_pairs(n_nodes: int) -> NodeIndexPairs:\n",
    "    return [\n",
    "        (i0, i1)\n",
    "        for i0 in tqdm(range(n_nodes), desc=\"generating node pairs\")\n",
    "        for i1 in range(i0 + 1, n_nodes)\n",
    "    ]\n",
    "\n",
    "\n",
    "# https://stackoverflow.com/a/36460020/10619052\n",
    "def list_to_dict(items: list) -> dict:\n",
    "    return {v: k for v, k in enumerate(tqdm(items, desc=\"creating dict from list\"))}"
   ],
   "metadata": {
    "collapsed": false
   }
  },
  {
   "cell_type": "code",
   "execution_count": 15,
   "outputs": [],
   "source": [
    "# Define graph builder\n",
    "class RandomGeometricGraphBuilder:\n",
    "    def __init__(self):\n",
    "        # generate graph\n",
    "        self.nodes = gen_nodes(args.graph_size, args.graph_shape)\n",
    "        self.n_nodes = len(self.nodes)\n",
    "        self.graph = nx.random_geometric_graph(\n",
    "            self.n_nodes,\n",
    "            args.rg_radius,\n",
    "            pos=list_to_dict(self.nodes)\n",
    "        )\n",
    "        self.node_index_pairs = get_node_pairs(self.n_nodes)\n",
    "        self.edges: NodeIndexPairs = [\n",
    "            (i0, i1)\n",
    "            for (i0, i1) in tqdm(self.node_index_pairs, desc=\"generating dataset labels from node pairs\")\n",
    "            if self.graph.has_edge(i0, i1)\n",
    "        ]"
   ],
   "metadata": {
    "collapsed": false
   }
  },
  {
   "cell_type": "code",
   "execution_count": 16,
   "outputs": [],
   "source": [
    "# Define model\n",
    "class NeuralNetwork(nn.Module):\n",
    "    def __init__(self):\n",
    "        super().__init__()\n",
    "        #self.linear_relu_stack = nn.Sequential(\n",
    "        #    nn.Linear(4, args.layer_size),\n",
    "        #    nn.ReLU(),\n",
    "        #    nn.Linear(args.layer_size, args.layer_size),\n",
    "        #    nn.ReLU(),\n",
    "        #    nn.Linear(args.layer_size, 2)\n",
    "        #)\n",
    "        self.linear_relu_stack = nn.Sequential(\n",
    "            nn.Linear(4, args.layer_size),\n",
    "            nn.ReLU(),\n",
    "            nn.Linear(args.layer_size, args.layer_size),\n",
    "            nn.ReLU(),\n",
    "            nn.Linear(args.layer_size, args.layer_size),\n",
    "            nn.ReLU(),\n",
    "            nn.Linear(args.layer_size, args.layer_size),\n",
    "            nn.ReLU(),\n",
    "            nn.Linear(args.layer_size, args.layer_size),\n",
    "            nn.ReLU(),\n",
    "            nn.Linear(args.layer_size, args.layer_size),\n",
    "            nn.ReLU(),\n",
    "            nn.Linear(args.layer_size, args.layer_size),\n",
    "            nn.ReLU(),\n",
    "            nn.Linear(args.layer_size, args.layer_size),\n",
    "            nn.ReLU(),\n",
    "            nn.Linear(args.layer_size, args.layer_size),\n",
    "            nn.ReLU(),\n",
    "            nn.Linear(args.layer_size, 2)\n",
    "        )\n",
    "\n",
    "    def forward(self, x):\n",
    "        return self.linear_relu_stack(x)"
   ],
   "metadata": {
    "collapsed": false
   }
  },
  {
   "cell_type": "code",
   "execution_count": 17,
   "outputs": [],
   "source": [
    "# Define evaluator\n",
    "class EmbeddingEvaluator:\n",
    "    def __init__(self, nodes: NodePositions, edges: NodeIndexPairs, embedding: NodePositions):\n",
    "        self.nodes = nodes # used for 2D representation of graph (not used in training)\n",
    "        self.n_nodes = len(nodes)\n",
    "        self.node_index_pairs = get_node_pairs(self.n_nodes)\n",
    "        self.edges = edges\n",
    "        self.embedding = embedding\n",
    "        # generate net\n",
    "        self.net = None\n",
    "        self.reset_net()\n",
    "        # generate dataset\n",
    "        self.ds_values = torch.tensor([\n",
    "            [*self.embedding[i0], *self.embedding[i1]] # type: [float, float, float, float]\n",
    "            for (i0, i1) in tqdm(self.node_index_pairs, desc=\"generating dataset values from node pairs\")\n",
    "        ])\n",
    "        self.ds_labels = torch.LongTensor([\n",
    "            1 if (edge in self.edges) else 0\n",
    "            for edge in tqdm(self.node_index_pairs, desc=\"generating dataset labels from node pairs\")\n",
    "        ])\n",
    "        self.dataset = TensorDataset(self.ds_values, self.ds_labels)\n",
    "        #? do we ant to over-fit?\n",
    "        self.train_dataset, self.test_dataset = torch.utils.data.random_split(self.dataset, [args.train_size, 1 - args.train_size])\n",
    "        # use custom sampler that keeps labels in balance\n",
    "        labels_unique, labels_count = np.unique(self.ds_labels, return_counts=True) # independent of train-test split (has both classes)\n",
    "        labels_weights = [\n",
    "            (1 / labels_count[l])\n",
    "            for _, l in self.train_dataset\n",
    "        ]\n",
    "        self.train_sampler = WeightedRandomSampler(labels_weights, len(self.train_dataset), replacement=True)\n",
    "\n",
    "        self.train_dataloader = DataLoader(self.train_dataset, batch_size=args.batch_size, sampler=self.train_sampler)\n",
    "        self.test_dataloader = DataLoader(self.test_dataset, batch_size=args.batch_size)\n",
    "\n",
    "\n",
    "    def reset_net(self):\n",
    "        self.net = NeuralNetwork().to(device)\n",
    "\n",
    "\n",
    "    def train(self, loss_fn, optimizer):\n",
    "        for epoch in range(args.epochs):\n",
    "            with tqdm(total=len(self.train_dataloader), desc=\"starting model...\") as pbar:\n",
    "                pbar.set_description(f\"Epoch {epoch + 1}\")\n",
    "                self.__train(pbar, loss_fn, optimizer)\n",
    "                self.__test(pbar, loss_fn)\n",
    "\n",
    "\n",
    "    def __train(self, pbar, loss_fn, optimizer):\n",
    "        self.net.train()\n",
    "\n",
    "        n_train_batches = len(self.train_dataloader)\n",
    "        intv = np.ceil(n_train_batches / 100.0) # interval in which the pbar is updated (every 1%)\n",
    "        for idx_batch, (X, y) in enumerate(self.train_dataloader):\n",
    "            X, y = X.to(device), y.to(device)\n",
    "            # Compute prediction error\n",
    "            pred = self.net(X)\n",
    "            loss = loss_fn(pred, y)\n",
    "            # Backpropagation\n",
    "            optimizer.zero_grad()\n",
    "            loss.backward()\n",
    "            optimizer.step()\n",
    "            # update progress\n",
    "            if idx_batch % intv == 0 or idx_batch == n_train_batches - 1:\n",
    "                pbar.update(idx_batch - pbar.n)\n",
    "                pbar.set_postfix_str(f\"loss: {loss.item():>6f}\")\n",
    "\n",
    "\n",
    "    def __test(self, pbar, loss_fn):\n",
    "        self.net.eval()\n",
    "\n",
    "        n_test_batches = len(self.test_dataloader)\n",
    "        n_test_values = 0\n",
    "        test_loss, correct = 0, 0\n",
    "        pbar.set_postfix_str(f\"evaluating epoch...\")\n",
    "        with torch.no_grad():\n",
    "            for x, y in self.test_dataloader:\n",
    "                x, y = x.to(device), y.to(device)\n",
    "                pred = self.net(x)\n",
    "                test_loss += loss_fn(pred, y).item()\n",
    "                correct += (pred.argmax(1) == y).type(torch.float).sum().item()\n",
    "                n_test_values += len(pred)\n",
    "        test_loss /= n_test_batches\n",
    "        correct /= n_test_values\n",
    "        pbar.set_postfix_str(f\"epoch result: accuracy: {(100*correct):>0.1f}%, avg_loss: {test_loss:>8f}\")\n",
    "\n",
    "\n",
    "    def predict(self, embedding: NodePositions):\n",
    "        self.net.eval()\n",
    "\n",
    "        _node_index_pairs = get_node_pairs(len(embedding))\n",
    "        _ds_values = torch.tensor([\n",
    "            [*embedding[i0], *embedding[i1]] # type: [float, float, float, float]\n",
    "            for (i0, i1) in tqdm(_node_index_pairs, desc=\"generating dataset values from node pairs\")\n",
    "        ])\n",
    "        with torch.no_grad():\n",
    "            return self.net(_ds_values.to(device))\n",
    "\n",
    "\n",
    "    def evaluate(self, print_report: bool = True, print_graph: bool = True):\n",
    "        self.net.eval()\n",
    "\n",
    "        with torch.no_grad():\n",
    "            _predictions = self.net(self.ds_values.to(device))\n",
    "            _, _pred_labels = torch.max(_predictions, 1)\n",
    "            _probabilities = torch.nn.Softmax(dim=1)(_predictions)\n",
    "\n",
    "            if print_report:\n",
    "                print(classification_report(\n",
    "                    self.ds_labels,\n",
    "                    _pred_labels.cpu(),\n",
    "                    labels=[0, 1]\n",
    "                ))\n",
    "\n",
    "            if print_graph:\n",
    "                self.__print_graph(_pred_labels.cpu().numpy(), _probabilities.cpu().numpy())\n",
    "\n",
    "            return _predictions, _pred_labels, _probabilities\n",
    "\n",
    "\n",
    "    def __print_graph(self, pred_labels: List[int], probabilities: List[Tuple[float, float]]):\n",
    "        fig, ax = plt.subplots(1, 2)\n",
    "        nodes_dict = list_to_dict(self.nodes)\n",
    "\n",
    "        # generate embedding graph\n",
    "        embed_graph = nx.Graph()\n",
    "        embed_graph.add_nodes_from(range(self.n_nodes))\n",
    "        embed_graph.add_edges_from(self.edges)\n",
    "\n",
    "        # print embed graph\n",
    "        ax[0].set_axis_off()\n",
    "        ax[0].set_aspect('equal')\n",
    "        ax[0].set_title(\"original graph\")\n",
    "        nx.draw_networkx(embed_graph, pos=nodes_dict, ax=ax[0], node_size=5, with_labels=False, labels={})\n",
    "\n",
    "        # generate predict graph\n",
    "        colors_filtered = np.array([\n",
    "            probabilities[i][1] # take probability for class '1'\n",
    "            for i, _ in enumerate(self.node_index_pairs)\n",
    "            if pred_labels[i] == 1\n",
    "        ])\n",
    "        colormap = sns.color_palette(\"flare\", as_cmap=True)\n",
    "        pred_graph = nx.Graph()\n",
    "        pred_graph.add_nodes_from(range(self.n_nodes))\n",
    "        pred_graph.add_edges_from([\n",
    "            pair\n",
    "            for i, pair in enumerate(self.node_index_pairs)\n",
    "            if pred_labels[i] == 1\n",
    "        ])\n",
    "\n",
    "        # print predicted graph\n",
    "        ax[1].set_axis_off()\n",
    "        ax[1].set_aspect('equal')\n",
    "        ax[1].set_title(\"reconstructed graph\")\n",
    "        nx.draw_networkx(pred_graph, pos=nodes_dict, ax=ax[1], node_size=5, with_labels=False, labels={}, edge_color=colors_filtered, edge_cmap=colormap)\n",
    "\n",
    "        # add color bar for predictions\n",
    "        cax = fig.add_axes([ax[1].get_position().x1 + 0.01, ax[1].get_position().y0, 0.02, ax[1].get_position().height])\n",
    "        fig.colorbar(mpl.cm.ScalarMappable(cmap=colormap), cax=cax, label=\"confidence\")\n",
    "\n",
    "        plt.savefig('./filename.png', dpi=300)\n",
    "        plt.show()"
   ],
   "metadata": {
    "collapsed": false
   }
  },
  {
   "cell_type": "code",
   "execution_count": 18,
   "outputs": [
    {
     "data": {
      "text/plain": "generating random-uniform nodes on disc:   0%|          | 0/100 [00:00<?, ?it/s]",
      "application/vnd.jupyter.widget-view+json": {
       "version_major": 2,
       "version_minor": 0,
       "model_id": "d9fe7750a2e449c38a6a34320e92ab04"
      }
     },
     "metadata": {},
     "output_type": "display_data"
    },
    {
     "data": {
      "text/plain": "creating dict from list:   0%|          | 0/100 [00:00<?, ?it/s]",
      "application/vnd.jupyter.widget-view+json": {
       "version_major": 2,
       "version_minor": 0,
       "model_id": "ee7b8503f8624c4f8d05ee608f8c8c77"
      }
     },
     "metadata": {},
     "output_type": "display_data"
    },
    {
     "data": {
      "text/plain": "generating node pairs:   0%|          | 0/100 [00:00<?, ?it/s]",
      "application/vnd.jupyter.widget-view+json": {
       "version_major": 2,
       "version_minor": 0,
       "model_id": "6ccc52c8105e4f0184832ed375f456de"
      }
     },
     "metadata": {},
     "output_type": "display_data"
    },
    {
     "data": {
      "text/plain": "generating dataset labels from node pairs:   0%|          | 0/4950 [00:00<?, ?it/s]",
      "application/vnd.jupyter.widget-view+json": {
       "version_major": 2,
       "version_minor": 0,
       "model_id": "dd486d2f129c469898789c7659d78183"
      }
     },
     "metadata": {},
     "output_type": "display_data"
    },
    {
     "data": {
      "text/plain": "generating node pairs:   0%|          | 0/100 [00:00<?, ?it/s]",
      "application/vnd.jupyter.widget-view+json": {
       "version_major": 2,
       "version_minor": 0,
       "model_id": "923a6c93b4404ec79550d417c064e5b9"
      }
     },
     "metadata": {},
     "output_type": "display_data"
    },
    {
     "data": {
      "text/plain": "generating dataset values from node pairs:   0%|          | 0/4950 [00:00<?, ?it/s]",
      "application/vnd.jupyter.widget-view+json": {
       "version_major": 2,
       "version_minor": 0,
       "model_id": "1320ab30da75470095493c9e300dccc0"
      }
     },
     "metadata": {},
     "output_type": "display_data"
    },
    {
     "data": {
      "text/plain": "generating dataset labels from node pairs:   0%|          | 0/4950 [00:00<?, ?it/s]",
      "application/vnd.jupyter.widget-view+json": {
       "version_major": 2,
       "version_minor": 0,
       "model_id": "6a6ea402267b4e0ba0b7ae3c95511ea1"
      }
     },
     "metadata": {},
     "output_type": "display_data"
    },
    {
     "data": {
      "text/plain": "starting model...:   0%|          | 0/397 [00:00<?, ?it/s]",
      "application/vnd.jupyter.widget-view+json": {
       "version_major": 2,
       "version_minor": 0,
       "model_id": "2dac3110ac9f41e99120532ea18d48d5"
      }
     },
     "metadata": {},
     "output_type": "display_data"
    },
    {
     "data": {
      "text/plain": "starting model...:   0%|          | 0/397 [00:00<?, ?it/s]",
      "application/vnd.jupyter.widget-view+json": {
       "version_major": 2,
       "version_minor": 0,
       "model_id": "0012d380f7b248399c2d20f8f2a79547"
      }
     },
     "metadata": {},
     "output_type": "display_data"
    },
    {
     "data": {
      "text/plain": "starting model...:   0%|          | 0/397 [00:00<?, ?it/s]",
      "application/vnd.jupyter.widget-view+json": {
       "version_major": 2,
       "version_minor": 0,
       "model_id": "04c042d1d4ea4eb7954cee5b21bd45ad"
      }
     },
     "metadata": {},
     "output_type": "display_data"
    },
    {
     "data": {
      "text/plain": "starting model...:   0%|          | 0/397 [00:00<?, ?it/s]",
      "application/vnd.jupyter.widget-view+json": {
       "version_major": 2,
       "version_minor": 0,
       "model_id": "3451008a44414ac19ce276d6b34111a7"
      }
     },
     "metadata": {},
     "output_type": "display_data"
    },
    {
     "data": {
      "text/plain": "starting model...:   0%|          | 0/397 [00:00<?, ?it/s]",
      "application/vnd.jupyter.widget-view+json": {
       "version_major": 2,
       "version_minor": 0,
       "model_id": "21cd5322c8404648b477385e8781101a"
      }
     },
     "metadata": {},
     "output_type": "display_data"
    },
    {
     "data": {
      "text/plain": "starting model...:   0%|          | 0/397 [00:00<?, ?it/s]",
      "application/vnd.jupyter.widget-view+json": {
       "version_major": 2,
       "version_minor": 0,
       "model_id": "3fc960b366fa480ba44b78cdaf2d638a"
      }
     },
     "metadata": {},
     "output_type": "display_data"
    },
    {
     "data": {
      "text/plain": "starting model...:   0%|          | 0/397 [00:00<?, ?it/s]",
      "application/vnd.jupyter.widget-view+json": {
       "version_major": 2,
       "version_minor": 0,
       "model_id": "258fa408ae6a4bc5b8dd670bc0196b56"
      }
     },
     "metadata": {},
     "output_type": "display_data"
    },
    {
     "data": {
      "text/plain": "starting model...:   0%|          | 0/397 [00:00<?, ?it/s]",
      "application/vnd.jupyter.widget-view+json": {
       "version_major": 2,
       "version_minor": 0,
       "model_id": "5659644823d34f0391fb21c770404781"
      }
     },
     "metadata": {},
     "output_type": "display_data"
    },
    {
     "data": {
      "text/plain": "starting model...:   0%|          | 0/397 [00:00<?, ?it/s]",
      "application/vnd.jupyter.widget-view+json": {
       "version_major": 2,
       "version_minor": 0,
       "model_id": "8d5609b649684cf2ba69421c083aea91"
      }
     },
     "metadata": {},
     "output_type": "display_data"
    },
    {
     "data": {
      "text/plain": "starting model...:   0%|          | 0/397 [00:00<?, ?it/s]",
      "application/vnd.jupyter.widget-view+json": {
       "version_major": 2,
       "version_minor": 0,
       "model_id": "f71c27241b9048ce8db1fcf543632deb"
      }
     },
     "metadata": {},
     "output_type": "display_data"
    },
    {
     "data": {
      "text/plain": "starting model...:   0%|          | 0/397 [00:00<?, ?it/s]",
      "application/vnd.jupyter.widget-view+json": {
       "version_major": 2,
       "version_minor": 0,
       "model_id": "8bf2fb0a310a452da14e7607b84a343b"
      }
     },
     "metadata": {},
     "output_type": "display_data"
    },
    {
     "data": {
      "text/plain": "starting model...:   0%|          | 0/397 [00:00<?, ?it/s]",
      "application/vnd.jupyter.widget-view+json": {
       "version_major": 2,
       "version_minor": 0,
       "model_id": "66a6de58951b4d3c93f34adb6def4dd9"
      }
     },
     "metadata": {},
     "output_type": "display_data"
    },
    {
     "data": {
      "text/plain": "starting model...:   0%|          | 0/397 [00:00<?, ?it/s]",
      "application/vnd.jupyter.widget-view+json": {
       "version_major": 2,
       "version_minor": 0,
       "model_id": "d9eb7bbcb878412796034c497297bc20"
      }
     },
     "metadata": {},
     "output_type": "display_data"
    },
    {
     "data": {
      "text/plain": "starting model...:   0%|          | 0/397 [00:00<?, ?it/s]",
      "application/vnd.jupyter.widget-view+json": {
       "version_major": 2,
       "version_minor": 0,
       "model_id": "cd45a53748d64460b7bddd48674a7dd9"
      }
     },
     "metadata": {},
     "output_type": "display_data"
    },
    {
     "data": {
      "text/plain": "starting model...:   0%|          | 0/397 [00:00<?, ?it/s]",
      "application/vnd.jupyter.widget-view+json": {
       "version_major": 2,
       "version_minor": 0,
       "model_id": "cfc2156c68ae40e083bc50f34f2f0b24"
      }
     },
     "metadata": {},
     "output_type": "display_data"
    },
    {
     "data": {
      "text/plain": "starting model...:   0%|          | 0/397 [00:00<?, ?it/s]",
      "application/vnd.jupyter.widget-view+json": {
       "version_major": 2,
       "version_minor": 0,
       "model_id": "9be24e22931c46d7bc3a52de2e98f978"
      }
     },
     "metadata": {},
     "output_type": "display_data"
    },
    {
     "data": {
      "text/plain": "starting model...:   0%|          | 0/397 [00:00<?, ?it/s]",
      "application/vnd.jupyter.widget-view+json": {
       "version_major": 2,
       "version_minor": 0,
       "model_id": "f000c2fb69a54e2ab82be8076b8e7ffb"
      }
     },
     "metadata": {},
     "output_type": "display_data"
    },
    {
     "data": {
      "text/plain": "starting model...:   0%|          | 0/397 [00:00<?, ?it/s]",
      "application/vnd.jupyter.widget-view+json": {
       "version_major": 2,
       "version_minor": 0,
       "model_id": "bd5360df09f14a0bb01e5806b0cab7f9"
      }
     },
     "metadata": {},
     "output_type": "display_data"
    },
    {
     "data": {
      "text/plain": "starting model...:   0%|          | 0/397 [00:00<?, ?it/s]",
      "application/vnd.jupyter.widget-view+json": {
       "version_major": 2,
       "version_minor": 0,
       "model_id": "9c48a9da5c254c43966981bd0bc687fe"
      }
     },
     "metadata": {},
     "output_type": "display_data"
    },
    {
     "data": {
      "text/plain": "starting model...:   0%|          | 0/397 [00:00<?, ?it/s]",
      "application/vnd.jupyter.widget-view+json": {
       "version_major": 2,
       "version_minor": 0,
       "model_id": "7ef93e06cf7543c9ac6de40e988630a5"
      }
     },
     "metadata": {},
     "output_type": "display_data"
    },
    {
     "data": {
      "text/plain": "starting model...:   0%|          | 0/397 [00:00<?, ?it/s]",
      "application/vnd.jupyter.widget-view+json": {
       "version_major": 2,
       "version_minor": 0,
       "model_id": "3c952bd0a3a14a57bfb46419687f43dd"
      }
     },
     "metadata": {},
     "output_type": "display_data"
    },
    {
     "data": {
      "text/plain": "starting model...:   0%|          | 0/397 [00:00<?, ?it/s]",
      "application/vnd.jupyter.widget-view+json": {
       "version_major": 2,
       "version_minor": 0,
       "model_id": "3865f679580143afb34b0ea74a4932fd"
      }
     },
     "metadata": {},
     "output_type": "display_data"
    },
    {
     "data": {
      "text/plain": "starting model...:   0%|          | 0/397 [00:00<?, ?it/s]",
      "application/vnd.jupyter.widget-view+json": {
       "version_major": 2,
       "version_minor": 0,
       "model_id": "921c64ccb640449f99342a5d6f75254b"
      }
     },
     "metadata": {},
     "output_type": "display_data"
    },
    {
     "data": {
      "text/plain": "starting model...:   0%|          | 0/397 [00:00<?, ?it/s]",
      "application/vnd.jupyter.widget-view+json": {
       "version_major": 2,
       "version_minor": 0,
       "model_id": "ab0de9bcc0604fcf837c1afa666c05fe"
      }
     },
     "metadata": {},
     "output_type": "display_data"
    },
    {
     "data": {
      "text/plain": "starting model...:   0%|          | 0/397 [00:00<?, ?it/s]",
      "application/vnd.jupyter.widget-view+json": {
       "version_major": 2,
       "version_minor": 0,
       "model_id": "d5ef768540444ee1962f7fbb27507649"
      }
     },
     "metadata": {},
     "output_type": "display_data"
    },
    {
     "data": {
      "text/plain": "starting model...:   0%|          | 0/397 [00:00<?, ?it/s]",
      "application/vnd.jupyter.widget-view+json": {
       "version_major": 2,
       "version_minor": 0,
       "model_id": "fae7dcb1bfc84c7b804d137d75b2bbd1"
      }
     },
     "metadata": {},
     "output_type": "display_data"
    },
    {
     "data": {
      "text/plain": "starting model...:   0%|          | 0/397 [00:00<?, ?it/s]",
      "application/vnd.jupyter.widget-view+json": {
       "version_major": 2,
       "version_minor": 0,
       "model_id": "bb2f89f4ce1d464b917430fc7e43e30b"
      }
     },
     "metadata": {},
     "output_type": "display_data"
    },
    {
     "data": {
      "text/plain": "starting model...:   0%|          | 0/397 [00:00<?, ?it/s]",
      "application/vnd.jupyter.widget-view+json": {
       "version_major": 2,
       "version_minor": 0,
       "model_id": "1318332fce524a3da0e50759d0e09557"
      }
     },
     "metadata": {},
     "output_type": "display_data"
    },
    {
     "data": {
      "text/plain": "starting model...:   0%|          | 0/397 [00:00<?, ?it/s]",
      "application/vnd.jupyter.widget-view+json": {
       "version_major": 2,
       "version_minor": 0,
       "model_id": "0b19ffeee2d84813a6fd721a7cbe9069"
      }
     },
     "metadata": {},
     "output_type": "display_data"
    },
    {
     "data": {
      "text/plain": "starting model...:   0%|          | 0/397 [00:00<?, ?it/s]",
      "application/vnd.jupyter.widget-view+json": {
       "version_major": 2,
       "version_minor": 0,
       "model_id": "2d5ae5fcc97243da9336f90b3f0b8e11"
      }
     },
     "metadata": {},
     "output_type": "display_data"
    },
    {
     "data": {
      "text/plain": "starting model...:   0%|          | 0/397 [00:00<?, ?it/s]",
      "application/vnd.jupyter.widget-view+json": {
       "version_major": 2,
       "version_minor": 0,
       "model_id": "eade9d1df7e04d1b9f825992d1c67311"
      }
     },
     "metadata": {},
     "output_type": "display_data"
    },
    {
     "data": {
      "text/plain": "starting model...:   0%|          | 0/397 [00:00<?, ?it/s]",
      "application/vnd.jupyter.widget-view+json": {
       "version_major": 2,
       "version_minor": 0,
       "model_id": "19b2ae7ccad347e9a82576fe39ea6f5d"
      }
     },
     "metadata": {},
     "output_type": "display_data"
    },
    {
     "data": {
      "text/plain": "starting model...:   0%|          | 0/397 [00:00<?, ?it/s]",
      "application/vnd.jupyter.widget-view+json": {
       "version_major": 2,
       "version_minor": 0,
       "model_id": "7cc75404cec149a28d63ed7973b49cd5"
      }
     },
     "metadata": {},
     "output_type": "display_data"
    },
    {
     "data": {
      "text/plain": "starting model...:   0%|          | 0/397 [00:00<?, ?it/s]",
      "application/vnd.jupyter.widget-view+json": {
       "version_major": 2,
       "version_minor": 0,
       "model_id": "0348065a5ae846a0b46dedef611cbb07"
      }
     },
     "metadata": {},
     "output_type": "display_data"
    },
    {
     "data": {
      "text/plain": "starting model...:   0%|          | 0/397 [00:00<?, ?it/s]",
      "application/vnd.jupyter.widget-view+json": {
       "version_major": 2,
       "version_minor": 0,
       "model_id": "071f7a9bd14349209a5b48a8964d9118"
      }
     },
     "metadata": {},
     "output_type": "display_data"
    },
    {
     "data": {
      "text/plain": "starting model...:   0%|          | 0/397 [00:00<?, ?it/s]",
      "application/vnd.jupyter.widget-view+json": {
       "version_major": 2,
       "version_minor": 0,
       "model_id": "0d57129230ed4fb2afe5cc6efcff42cb"
      }
     },
     "metadata": {},
     "output_type": "display_data"
    },
    {
     "data": {
      "text/plain": "starting model...:   0%|          | 0/397 [00:00<?, ?it/s]",
      "application/vnd.jupyter.widget-view+json": {
       "version_major": 2,
       "version_minor": 0,
       "model_id": "b547b9f7f92c40a8bf0e0bb42cb3d6cd"
      }
     },
     "metadata": {},
     "output_type": "display_data"
    },
    {
     "data": {
      "text/plain": "starting model...:   0%|          | 0/397 [00:00<?, ?it/s]",
      "application/vnd.jupyter.widget-view+json": {
       "version_major": 2,
       "version_minor": 0,
       "model_id": "ae254d04b9b844608212e21012bdc6ae"
      }
     },
     "metadata": {},
     "output_type": "display_data"
    },
    {
     "data": {
      "text/plain": "starting model...:   0%|          | 0/397 [00:00<?, ?it/s]",
      "application/vnd.jupyter.widget-view+json": {
       "version_major": 2,
       "version_minor": 0,
       "model_id": "9b1144571f7b45448fe53fa645518c66"
      }
     },
     "metadata": {},
     "output_type": "display_data"
    },
    {
     "data": {
      "text/plain": "starting model...:   0%|          | 0/397 [00:00<?, ?it/s]",
      "application/vnd.jupyter.widget-view+json": {
       "version_major": 2,
       "version_minor": 0,
       "model_id": "2100a80c31ec416ab32d7af34399ca32"
      }
     },
     "metadata": {},
     "output_type": "display_data"
    },
    {
     "data": {
      "text/plain": "starting model...:   0%|          | 0/397 [00:00<?, ?it/s]",
      "application/vnd.jupyter.widget-view+json": {
       "version_major": 2,
       "version_minor": 0,
       "model_id": "21d010a9fae042359cec12ca031556fb"
      }
     },
     "metadata": {},
     "output_type": "display_data"
    },
    {
     "data": {
      "text/plain": "starting model...:   0%|          | 0/397 [00:00<?, ?it/s]",
      "application/vnd.jupyter.widget-view+json": {
       "version_major": 2,
       "version_minor": 0,
       "model_id": "46be45f313ab41e8ac3e0ba97e457e4a"
      }
     },
     "metadata": {},
     "output_type": "display_data"
    },
    {
     "data": {
      "text/plain": "starting model...:   0%|          | 0/397 [00:00<?, ?it/s]",
      "application/vnd.jupyter.widget-view+json": {
       "version_major": 2,
       "version_minor": 0,
       "model_id": "9d6416aae97042d59796f43f9b50b484"
      }
     },
     "metadata": {},
     "output_type": "display_data"
    },
    {
     "data": {
      "text/plain": "starting model...:   0%|          | 0/397 [00:00<?, ?it/s]",
      "application/vnd.jupyter.widget-view+json": {
       "version_major": 2,
       "version_minor": 0,
       "model_id": "c7c8e171a6f4425dba2bced854b487e3"
      }
     },
     "metadata": {},
     "output_type": "display_data"
    },
    {
     "data": {
      "text/plain": "starting model...:   0%|          | 0/397 [00:00<?, ?it/s]",
      "application/vnd.jupyter.widget-view+json": {
       "version_major": 2,
       "version_minor": 0,
       "model_id": "aa467f076d8348a19d82cd1689a3e40a"
      }
     },
     "metadata": {},
     "output_type": "display_data"
    },
    {
     "data": {
      "text/plain": "starting model...:   0%|          | 0/397 [00:00<?, ?it/s]",
      "application/vnd.jupyter.widget-view+json": {
       "version_major": 2,
       "version_minor": 0,
       "model_id": "bf4f10bff57d4c688d331d872914526e"
      }
     },
     "metadata": {},
     "output_type": "display_data"
    },
    {
     "data": {
      "text/plain": "starting model...:   0%|          | 0/397 [00:00<?, ?it/s]",
      "application/vnd.jupyter.widget-view+json": {
       "version_major": 2,
       "version_minor": 0,
       "model_id": "74eb02b68c9a4a4089e9acd8a03c12af"
      }
     },
     "metadata": {},
     "output_type": "display_data"
    },
    {
     "data": {
      "text/plain": "starting model...:   0%|          | 0/397 [00:00<?, ?it/s]",
      "application/vnd.jupyter.widget-view+json": {
       "version_major": 2,
       "version_minor": 0,
       "model_id": "d548321e879346f4a0b7f7a67e663c4c"
      }
     },
     "metadata": {},
     "output_type": "display_data"
    },
    {
     "data": {
      "text/plain": "starting model...:   0%|          | 0/397 [00:00<?, ?it/s]",
      "application/vnd.jupyter.widget-view+json": {
       "version_major": 2,
       "version_minor": 0,
       "model_id": "e9d40958776b4b1db57e5c4f8deb49e9"
      }
     },
     "metadata": {},
     "output_type": "display_data"
    },
    {
     "data": {
      "text/plain": "starting model...:   0%|          | 0/397 [00:00<?, ?it/s]",
      "application/vnd.jupyter.widget-view+json": {
       "version_major": 2,
       "version_minor": 0,
       "model_id": "de19c7c65dc44a7e9d90bacafb098963"
      }
     },
     "metadata": {},
     "output_type": "display_data"
    },
    {
     "data": {
      "text/plain": "starting model...:   0%|          | 0/397 [00:00<?, ?it/s]",
      "application/vnd.jupyter.widget-view+json": {
       "version_major": 2,
       "version_minor": 0,
       "model_id": "7b09b96c43914b0d804915a6aded2c2d"
      }
     },
     "metadata": {},
     "output_type": "display_data"
    },
    {
     "data": {
      "text/plain": "starting model...:   0%|          | 0/397 [00:00<?, ?it/s]",
      "application/vnd.jupyter.widget-view+json": {
       "version_major": 2,
       "version_minor": 0,
       "model_id": "ea21d92a2a1047aeb01cc7074482f3a1"
      }
     },
     "metadata": {},
     "output_type": "display_data"
    },
    {
     "data": {
      "text/plain": "starting model...:   0%|          | 0/397 [00:00<?, ?it/s]",
      "application/vnd.jupyter.widget-view+json": {
       "version_major": 2,
       "version_minor": 0,
       "model_id": "1021de5526534f1fbe64534fc9f978d3"
      }
     },
     "metadata": {},
     "output_type": "display_data"
    },
    {
     "data": {
      "text/plain": "starting model...:   0%|          | 0/397 [00:00<?, ?it/s]",
      "application/vnd.jupyter.widget-view+json": {
       "version_major": 2,
       "version_minor": 0,
       "model_id": "cf20722d10ee44ba8b4fa726cbdcad78"
      }
     },
     "metadata": {},
     "output_type": "display_data"
    },
    {
     "data": {
      "text/plain": "starting model...:   0%|          | 0/397 [00:00<?, ?it/s]",
      "application/vnd.jupyter.widget-view+json": {
       "version_major": 2,
       "version_minor": 0,
       "model_id": "3d14732907124d2c85c80cefde0dad4b"
      }
     },
     "metadata": {},
     "output_type": "display_data"
    },
    {
     "data": {
      "text/plain": "starting model...:   0%|          | 0/397 [00:00<?, ?it/s]",
      "application/vnd.jupyter.widget-view+json": {
       "version_major": 2,
       "version_minor": 0,
       "model_id": "dec3fbc40cb64cf4ad1b6c3bf54fc0de"
      }
     },
     "metadata": {},
     "output_type": "display_data"
    },
    {
     "data": {
      "text/plain": "starting model...:   0%|          | 0/397 [00:00<?, ?it/s]",
      "application/vnd.jupyter.widget-view+json": {
       "version_major": 2,
       "version_minor": 0,
       "model_id": "b0613c068049483583ad27a228b74ac0"
      }
     },
     "metadata": {},
     "output_type": "display_data"
    },
    {
     "data": {
      "text/plain": "starting model...:   0%|          | 0/397 [00:00<?, ?it/s]",
      "application/vnd.jupyter.widget-view+json": {
       "version_major": 2,
       "version_minor": 0,
       "model_id": "d65c7e9f59b34e528fe05aa68dd4475d"
      }
     },
     "metadata": {},
     "output_type": "display_data"
    },
    {
     "data": {
      "text/plain": "starting model...:   0%|          | 0/397 [00:00<?, ?it/s]",
      "application/vnd.jupyter.widget-view+json": {
       "version_major": 2,
       "version_minor": 0,
       "model_id": "87d158de5f5340e1bcee93e52bba2fd0"
      }
     },
     "metadata": {},
     "output_type": "display_data"
    },
    {
     "data": {
      "text/plain": "starting model...:   0%|          | 0/397 [00:00<?, ?it/s]",
      "application/vnd.jupyter.widget-view+json": {
       "version_major": 2,
       "version_minor": 0,
       "model_id": "9d6a345f38b042e692745599b7989735"
      }
     },
     "metadata": {},
     "output_type": "display_data"
    },
    {
     "data": {
      "text/plain": "starting model...:   0%|          | 0/397 [00:00<?, ?it/s]",
      "application/vnd.jupyter.widget-view+json": {
       "version_major": 2,
       "version_minor": 0,
       "model_id": "2854e82afad94dafa57b74cc87bc38e9"
      }
     },
     "metadata": {},
     "output_type": "display_data"
    },
    {
     "data": {
      "text/plain": "starting model...:   0%|          | 0/397 [00:00<?, ?it/s]",
      "application/vnd.jupyter.widget-view+json": {
       "version_major": 2,
       "version_minor": 0,
       "model_id": "438e90e4388b439a814b1d95f72ecb11"
      }
     },
     "metadata": {},
     "output_type": "display_data"
    },
    {
     "data": {
      "text/plain": "starting model...:   0%|          | 0/397 [00:00<?, ?it/s]",
      "application/vnd.jupyter.widget-view+json": {
       "version_major": 2,
       "version_minor": 0,
       "model_id": "f19f26b442254880bf27e92bf160ba51"
      }
     },
     "metadata": {},
     "output_type": "display_data"
    },
    {
     "data": {
      "text/plain": "starting model...:   0%|          | 0/397 [00:00<?, ?it/s]",
      "application/vnd.jupyter.widget-view+json": {
       "version_major": 2,
       "version_minor": 0,
       "model_id": "bbef632de50d4c958177e5c7958a61b4"
      }
     },
     "metadata": {},
     "output_type": "display_data"
    },
    {
     "data": {
      "text/plain": "starting model...:   0%|          | 0/397 [00:00<?, ?it/s]",
      "application/vnd.jupyter.widget-view+json": {
       "version_major": 2,
       "version_minor": 0,
       "model_id": "123a3f1d65d7401c89b897bc2a419a85"
      }
     },
     "metadata": {},
     "output_type": "display_data"
    },
    {
     "data": {
      "text/plain": "starting model...:   0%|          | 0/397 [00:00<?, ?it/s]",
      "application/vnd.jupyter.widget-view+json": {
       "version_major": 2,
       "version_minor": 0,
       "model_id": "f3b0586596fa438c84346c8605d518ed"
      }
     },
     "metadata": {},
     "output_type": "display_data"
    },
    {
     "data": {
      "text/plain": "starting model...:   0%|          | 0/397 [00:00<?, ?it/s]",
      "application/vnd.jupyter.widget-view+json": {
       "version_major": 2,
       "version_minor": 0,
       "model_id": "d5bec064e1f5456a980cc329101ca0b9"
      }
     },
     "metadata": {},
     "output_type": "display_data"
    },
    {
     "data": {
      "text/plain": "starting model...:   0%|          | 0/397 [00:00<?, ?it/s]",
      "application/vnd.jupyter.widget-view+json": {
       "version_major": 2,
       "version_minor": 0,
       "model_id": "962a94e4da924187a4f80c16e4d8e53b"
      }
     },
     "metadata": {},
     "output_type": "display_data"
    },
    {
     "data": {
      "text/plain": "starting model...:   0%|          | 0/397 [00:00<?, ?it/s]",
      "application/vnd.jupyter.widget-view+json": {
       "version_major": 2,
       "version_minor": 0,
       "model_id": "14fc86d9793843a7b19be33237fd3f12"
      }
     },
     "metadata": {},
     "output_type": "display_data"
    },
    {
     "data": {
      "text/plain": "starting model...:   0%|          | 0/397 [00:00<?, ?it/s]",
      "application/vnd.jupyter.widget-view+json": {
       "version_major": 2,
       "version_minor": 0,
       "model_id": "b8a01b45068d4355827188984305e0d0"
      }
     },
     "metadata": {},
     "output_type": "display_data"
    },
    {
     "data": {
      "text/plain": "starting model...:   0%|          | 0/397 [00:00<?, ?it/s]",
      "application/vnd.jupyter.widget-view+json": {
       "version_major": 2,
       "version_minor": 0,
       "model_id": "e5be2f7f998a46c2b5f87e70429f5e2f"
      }
     },
     "metadata": {},
     "output_type": "display_data"
    },
    {
     "data": {
      "text/plain": "starting model...:   0%|          | 0/397 [00:00<?, ?it/s]",
      "application/vnd.jupyter.widget-view+json": {
       "version_major": 2,
       "version_minor": 0,
       "model_id": "2934d8c964c54ccfad1a41c47953eb32"
      }
     },
     "metadata": {},
     "output_type": "display_data"
    },
    {
     "data": {
      "text/plain": "starting model...:   0%|          | 0/397 [00:00<?, ?it/s]",
      "application/vnd.jupyter.widget-view+json": {
       "version_major": 2,
       "version_minor": 0,
       "model_id": "3a13370a7d4141caab6e08e9ad8679f0"
      }
     },
     "metadata": {},
     "output_type": "display_data"
    },
    {
     "data": {
      "text/plain": "starting model...:   0%|          | 0/397 [00:00<?, ?it/s]",
      "application/vnd.jupyter.widget-view+json": {
       "version_major": 2,
       "version_minor": 0,
       "model_id": "45986657aa5a4d418bd2cb5d40ae578c"
      }
     },
     "metadata": {},
     "output_type": "display_data"
    },
    {
     "data": {
      "text/plain": "starting model...:   0%|          | 0/397 [00:00<?, ?it/s]",
      "application/vnd.jupyter.widget-view+json": {
       "version_major": 2,
       "version_minor": 0,
       "model_id": "e6c816b35cd74342bea83fef9951da1b"
      }
     },
     "metadata": {},
     "output_type": "display_data"
    },
    {
     "data": {
      "text/plain": "starting model...:   0%|          | 0/397 [00:00<?, ?it/s]",
      "application/vnd.jupyter.widget-view+json": {
       "version_major": 2,
       "version_minor": 0,
       "model_id": "f407a0a297484962804787c198d307b5"
      }
     },
     "metadata": {},
     "output_type": "display_data"
    },
    {
     "data": {
      "text/plain": "starting model...:   0%|          | 0/397 [00:00<?, ?it/s]",
      "application/vnd.jupyter.widget-view+json": {
       "version_major": 2,
       "version_minor": 0,
       "model_id": "461c59a296da48c199e8970cba489315"
      }
     },
     "metadata": {},
     "output_type": "display_data"
    },
    {
     "data": {
      "text/plain": "starting model...:   0%|          | 0/397 [00:00<?, ?it/s]",
      "application/vnd.jupyter.widget-view+json": {
       "version_major": 2,
       "version_minor": 0,
       "model_id": "163d2723a7e34688a4d956f694ae1271"
      }
     },
     "metadata": {},
     "output_type": "display_data"
    },
    {
     "data": {
      "text/plain": "starting model...:   0%|          | 0/397 [00:00<?, ?it/s]",
      "application/vnd.jupyter.widget-view+json": {
       "version_major": 2,
       "version_minor": 0,
       "model_id": "683a276eed5941648eff2f2e3e44a945"
      }
     },
     "metadata": {},
     "output_type": "display_data"
    },
    {
     "data": {
      "text/plain": "starting model...:   0%|          | 0/397 [00:00<?, ?it/s]",
      "application/vnd.jupyter.widget-view+json": {
       "version_major": 2,
       "version_minor": 0,
       "model_id": "a1103716f3084bf8ad03b62d19d6115f"
      }
     },
     "metadata": {},
     "output_type": "display_data"
    },
    {
     "data": {
      "text/plain": "starting model...:   0%|          | 0/397 [00:00<?, ?it/s]",
      "application/vnd.jupyter.widget-view+json": {
       "version_major": 2,
       "version_minor": 0,
       "model_id": "4abff19e9722423fbd3def8bbdf66cba"
      }
     },
     "metadata": {},
     "output_type": "display_data"
    },
    {
     "data": {
      "text/plain": "starting model...:   0%|          | 0/397 [00:00<?, ?it/s]",
      "application/vnd.jupyter.widget-view+json": {
       "version_major": 2,
       "version_minor": 0,
       "model_id": "fe3a2de90aa140f7b4f2707af89a9f4a"
      }
     },
     "metadata": {},
     "output_type": "display_data"
    },
    {
     "data": {
      "text/plain": "starting model...:   0%|          | 0/397 [00:00<?, ?it/s]",
      "application/vnd.jupyter.widget-view+json": {
       "version_major": 2,
       "version_minor": 0,
       "model_id": "3e7771a200304f9e85db0c92bad9fe91"
      }
     },
     "metadata": {},
     "output_type": "display_data"
    },
    {
     "data": {
      "text/plain": "starting model...:   0%|          | 0/397 [00:00<?, ?it/s]",
      "application/vnd.jupyter.widget-view+json": {
       "version_major": 2,
       "version_minor": 0,
       "model_id": "6dc0d1e8d7ce45ceae76c2d4fcd70cb0"
      }
     },
     "metadata": {},
     "output_type": "display_data"
    },
    {
     "data": {
      "text/plain": "starting model...:   0%|          | 0/397 [00:00<?, ?it/s]",
      "application/vnd.jupyter.widget-view+json": {
       "version_major": 2,
       "version_minor": 0,
       "model_id": "05987173bd1c454fa0f8685f2d77b42b"
      }
     },
     "metadata": {},
     "output_type": "display_data"
    },
    {
     "data": {
      "text/plain": "starting model...:   0%|          | 0/397 [00:00<?, ?it/s]",
      "application/vnd.jupyter.widget-view+json": {
       "version_major": 2,
       "version_minor": 0,
       "model_id": "aef65aec3d7444d3b9b057e792adc317"
      }
     },
     "metadata": {},
     "output_type": "display_data"
    },
    {
     "data": {
      "text/plain": "starting model...:   0%|          | 0/397 [00:00<?, ?it/s]",
      "application/vnd.jupyter.widget-view+json": {
       "version_major": 2,
       "version_minor": 0,
       "model_id": "255231fed4ab4d8fbaeacd3f504ac042"
      }
     },
     "metadata": {},
     "output_type": "display_data"
    },
    {
     "data": {
      "text/plain": "starting model...:   0%|          | 0/397 [00:00<?, ?it/s]",
      "application/vnd.jupyter.widget-view+json": {
       "version_major": 2,
       "version_minor": 0,
       "model_id": "11f6aacb256844398d8fc4440cc2729c"
      }
     },
     "metadata": {},
     "output_type": "display_data"
    },
    {
     "data": {
      "text/plain": "starting model...:   0%|          | 0/397 [00:00<?, ?it/s]",
      "application/vnd.jupyter.widget-view+json": {
       "version_major": 2,
       "version_minor": 0,
       "model_id": "72d924e44f414c6fbd10fc0aa3498da1"
      }
     },
     "metadata": {},
     "output_type": "display_data"
    },
    {
     "data": {
      "text/plain": "starting model...:   0%|          | 0/397 [00:00<?, ?it/s]",
      "application/vnd.jupyter.widget-view+json": {
       "version_major": 2,
       "version_minor": 0,
       "model_id": "e88c990c1efc435baf0504c634e6a585"
      }
     },
     "metadata": {},
     "output_type": "display_data"
    },
    {
     "data": {
      "text/plain": "starting model...:   0%|          | 0/397 [00:00<?, ?it/s]",
      "application/vnd.jupyter.widget-view+json": {
       "version_major": 2,
       "version_minor": 0,
       "model_id": "02f6834e6e7a4e43b7f95c79c5bd1e4b"
      }
     },
     "metadata": {},
     "output_type": "display_data"
    },
    {
     "data": {
      "text/plain": "starting model...:   0%|          | 0/397 [00:00<?, ?it/s]",
      "application/vnd.jupyter.widget-view+json": {
       "version_major": 2,
       "version_minor": 0,
       "model_id": "a37cd3e4292a472c84cad2b9fb072668"
      }
     },
     "metadata": {},
     "output_type": "display_data"
    },
    {
     "data": {
      "text/plain": "starting model...:   0%|          | 0/397 [00:00<?, ?it/s]",
      "application/vnd.jupyter.widget-view+json": {
       "version_major": 2,
       "version_minor": 0,
       "model_id": "24aa8e92ca9b4f7bbd736db949402fba"
      }
     },
     "metadata": {},
     "output_type": "display_data"
    },
    {
     "data": {
      "text/plain": "starting model...:   0%|          | 0/397 [00:00<?, ?it/s]",
      "application/vnd.jupyter.widget-view+json": {
       "version_major": 2,
       "version_minor": 0,
       "model_id": "cd308594b2db4e7c975c5f4d2a30d14e"
      }
     },
     "metadata": {},
     "output_type": "display_data"
    },
    {
     "data": {
      "text/plain": "starting model...:   0%|          | 0/397 [00:00<?, ?it/s]",
      "application/vnd.jupyter.widget-view+json": {
       "version_major": 2,
       "version_minor": 0,
       "model_id": "3cf90408915e4f0d81367bc8ac736ee6"
      }
     },
     "metadata": {},
     "output_type": "display_data"
    },
    {
     "data": {
      "text/plain": "starting model...:   0%|          | 0/397 [00:00<?, ?it/s]",
      "application/vnd.jupyter.widget-view+json": {
       "version_major": 2,
       "version_minor": 0,
       "model_id": "6bc566ffbc8d4c8aab6bc4eba6bead97"
      }
     },
     "metadata": {},
     "output_type": "display_data"
    },
    {
     "data": {
      "text/plain": "starting model...:   0%|          | 0/397 [00:00<?, ?it/s]",
      "application/vnd.jupyter.widget-view+json": {
       "version_major": 2,
       "version_minor": 0,
       "model_id": "5d6ae9fe97c64d669b905c3203a074a7"
      }
     },
     "metadata": {},
     "output_type": "display_data"
    },
    {
     "data": {
      "text/plain": "starting model...:   0%|          | 0/397 [00:00<?, ?it/s]",
      "application/vnd.jupyter.widget-view+json": {
       "version_major": 2,
       "version_minor": 0,
       "model_id": "4b38312bf85c4ee1a1fd1cedf36e4f32"
      }
     },
     "metadata": {},
     "output_type": "display_data"
    },
    {
     "data": {
      "text/plain": "starting model...:   0%|          | 0/397 [00:00<?, ?it/s]",
      "application/vnd.jupyter.widget-view+json": {
       "version_major": 2,
       "version_minor": 0,
       "model_id": "e824cb77d53748638d1a336f0faaf800"
      }
     },
     "metadata": {},
     "output_type": "display_data"
    },
    {
     "data": {
      "text/plain": "starting model...:   0%|          | 0/397 [00:00<?, ?it/s]",
      "application/vnd.jupyter.widget-view+json": {
       "version_major": 2,
       "version_minor": 0,
       "model_id": "4a3a110be04b4c5da6ee96261de74d4d"
      }
     },
     "metadata": {},
     "output_type": "display_data"
    }
   ],
   "source": [
    "# build and run evaluator\n",
    "graph_builder = RandomGeometricGraphBuilder()\n",
    "evaluator = EmbeddingEvaluator(\n",
    "    graph_builder.nodes,\n",
    "    graph_builder.edges,\n",
    "    graph_builder.nodes # for random geometric graph, the structure defines the embedding\n",
    ")\n",
    "\n",
    "evaluator.train(\n",
    "    loss_fn=nn.CrossEntropyLoss(),\n",
    "    optimizer=torch.optim.SGD(evaluator.net.parameters(), lr=1e-3)\n",
    ")"
   ],
   "metadata": {
    "collapsed": false
   }
  },
  {
   "cell_type": "code",
   "execution_count": 19,
   "outputs": [
    {
     "name": "stdout",
     "output_type": "stream",
     "text": [
      "              precision    recall  f1-score   support\n",
      "\n",
      "           0       0.92      1.00      0.96      4553\n",
      "           1       0.00      0.00      0.00       397\n",
      "\n",
      "    accuracy                           0.92      4950\n",
      "   macro avg       0.46      0.50      0.48      4950\n",
      "weighted avg       0.85      0.92      0.88      4950\n",
      "\n"
     ]
    },
    {
     "name": "stderr",
     "output_type": "stream",
     "text": [
      "/home/paul/Projects/embedding-eval-framework/venv/lib/python3.8/site-packages/sklearn/metrics/_classification.py:1344: UndefinedMetricWarning: Precision and F-score are ill-defined and being set to 0.0 in labels with no predicted samples. Use `zero_division` parameter to control this behavior.\n",
      "  _warn_prf(average, modifier, msg_start, len(result))\n",
      "/home/paul/Projects/embedding-eval-framework/venv/lib/python3.8/site-packages/sklearn/metrics/_classification.py:1344: UndefinedMetricWarning: Precision and F-score are ill-defined and being set to 0.0 in labels with no predicted samples. Use `zero_division` parameter to control this behavior.\n",
      "  _warn_prf(average, modifier, msg_start, len(result))\n",
      "/home/paul/Projects/embedding-eval-framework/venv/lib/python3.8/site-packages/sklearn/metrics/_classification.py:1344: UndefinedMetricWarning: Precision and F-score are ill-defined and being set to 0.0 in labels with no predicted samples. Use `zero_division` parameter to control this behavior.\n",
      "  _warn_prf(average, modifier, msg_start, len(result))\n"
     ]
    },
    {
     "data": {
      "text/plain": "creating dict from list:   0%|          | 0/100 [00:00<?, ?it/s]",
      "application/vnd.jupyter.widget-view+json": {
       "version_major": 2,
       "version_minor": 0,
       "model_id": "24e2a0a6afab45b9922b130a2db405ee"
      }
     },
     "metadata": {},
     "output_type": "display_data"
    },
    {
     "data": {
      "text/plain": "<Figure size 640x480 with 3 Axes>",
      "image/png": "[encoded data removed]"
     },
     "metadata": {},
     "output_type": "display_data"
    },
    {
     "name": "stdout",
     "output_type": "stream",
     "text": [
      "tensor([[0.5076, 0.4924],\n",
      "        [0.5076, 0.4924],\n",
      "        [0.5076, 0.4924],\n",
      "        ...,\n",
      "        [0.5076, 0.4924],\n",
      "        [0.5076, 0.4924],\n",
      "        [0.5076, 0.4924]], device='cuda:0')\n"
     ]
    }
   ],
   "source": [
    "# evaluate embedding\n",
    "predictions, pred_labels, probabilities = evaluator.evaluate()\n",
    "print(probabilities)"
   ],
   "metadata": {
    "collapsed": false
   }
  },
  {
   "cell_type": "code",
   "execution_count": 20,
   "outputs": [
    {
     "name": "stdout",
     "output_type": "stream",
     "text": [
      "[tensor(1924), tensor(2037)]\n",
      "tensor(3961)\n",
      "3961\n"
     ]
    }
   ],
   "source": [
    "counts = [0, 0]\n",
    "for _, (_, y) in enumerate(evaluator.train_dataloader):\n",
    "    ones = y.cpu().sum()\n",
    "    counts[0] += len(y) - ones\n",
    "    counts[1] += ones\n",
    "print(counts)\n",
    "print(counts[0] + counts[1])\n",
    "print(len(evaluator.train_dataset))"
   ],
   "metadata": {
    "collapsed": false
   }
  },
  {
   "cell_type": "code",
   "execution_count": 20,
   "outputs": [],
   "source": [],
   "metadata": {
    "collapsed": false
   }
  }
 ],
 "metadata": {
  "kernelspec": {
   "display_name": "Python 3",
   "language": "python",
   "name": "python3"
  },
  "language_info": {
   "codemirror_mode": {
    "name": "ipython",
    "version": 2
   },
   "file_extension": ".py",
   "mimetype": "text/x-python",
   "name": "python",
   "nbconvert_exporter": "python",
   "pygments_lexer": "ipython2",
   "version": "2.7.6"
  }
 },
 "nbformat": 4,
 "nbformat_minor": 0
}
