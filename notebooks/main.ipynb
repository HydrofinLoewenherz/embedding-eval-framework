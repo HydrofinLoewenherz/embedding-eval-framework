{
 "cells": [
  {
   "cell_type": "code",
   "execution_count": 36,
   "metadata": {
    "collapsed": true
   },
   "outputs": [],
   "source": [
    "import os\n",
    "\n",
    "if os.getcwd().endswith(\"notebooks\"):\n",
    "    os.chdir(\"..\")\n",
    "    print(\"using project root as working dir\")"
   ]
  },
  {
   "cell_type": "code",
   "execution_count": 37,
   "outputs": [],
   "source": [
    "from dataclasses import dataclass\n",
    "import numpy as np\n",
    "import networkx as nx\n",
    "import math\n",
    "from tqdm.notebook import tqdm\n",
    "import random\n",
    "from typing import List, Tuple\n",
    "\n",
    "\n",
    "@dataclass\n",
    "class Args:\n",
    "    random_seed = None\n",
    "    # torch\n",
    "    batch_size = 64\n",
    "    epochs = 30\n",
    "    layers = 10\n",
    "    layer_size = 16\n",
    "    train_size = 0.7\n",
    "    wandb = False\n",
    "    # graph\n",
    "    graph_size = 1000\n",
    "    graph_shape = 'disc'\n",
    "    rg_radius = 0.05\n",
    "    # dataset manipulation\n",
    "    ds_padded = True\n",
    "\n",
    "args = Args()"
   ],
   "metadata": {
    "collapsed": false
   }
  },
  {
   "cell_type": "code",
   "execution_count": 38,
   "outputs": [
    {
     "name": "stdout",
     "output_type": "stream",
     "text": [
      "using cuda device\n"
     ]
    }
   ],
   "source": [
    "import torch\n",
    "from torch import nn\n",
    "from torch.utils.data import Dataset, TensorDataset, DataLoader\n",
    "from sklearn.metrics import classification_report\n",
    "\n",
    "\n",
    "# Get cpu or gpu device for training.\n",
    "device = \"cuda\" if torch.cuda.is_available() else (\"mps\" if torch.backends.mps.is_available() else \"cpu\")\n",
    "print(f\"using {device} device\")"
   ],
   "metadata": {
    "collapsed": false
   }
  },
  {
   "cell_type": "code",
   "execution_count": 39,
   "outputs": [],
   "source": [
    "NodePosition = Tuple[float, float]\n",
    "NodePositions = List[NodePosition]\n",
    "NodeIndexPairs = List[Tuple[int, int]]\n",
    "\n",
    "def gen_nodes(size: int, shape: str = \"disc\") -> NodePositions:\n",
    "    if shape == 'disc':\n",
    "        return __gen_nodes_disc(size)\n",
    "    else:\n",
    "        raise f'unsupported node shape: {shape}'\n",
    "\n",
    "\n",
    "def __gen_nodes_disc(amount: int) -> NodePositions:\n",
    "    points = []\n",
    "    with tqdm(total=amount, desc=\"generating random-uniform nodes on disc\") as pbar:\n",
    "        while len(points) < amount:\n",
    "            p = (random.uniform(0, 1), random.uniform(0, 1))\n",
    "            d = (p[0] - 0.5, p[1] - 0.5)\n",
    "            if math.sqrt(d[0] * d[0] + d[1] * d[1]) > 0.5:\n",
    "                continue\n",
    "            points.append(p)\n",
    "            pbar.update(1)\n",
    "    return points\n",
    "\n",
    "\n",
    "def get_node_pairs(n_nodes: int) -> NodeIndexPairs:\n",
    "    return [\n",
    "        (i0, i1)\n",
    "        for i0 in tqdm(range(n_nodes), desc=\"generating node pairs\")\n",
    "        for i1 in range(i0 + 1, n_nodes)\n",
    "    ]\n",
    "\n",
    "\n",
    "# https://stackoverflow.com/a/36460020/10619052\n",
    "def list_to_dict(items: list) -> dict:\n",
    "    return {v: k for v, k in enumerate(tqdm(items, desc=\"creating dict from list\"))}"
   ],
   "metadata": {
    "collapsed": false
   }
  },
  {
   "cell_type": "code",
   "execution_count": 40,
   "outputs": [],
   "source": [
    "# Define graph builder\n",
    "class RandomGeometricGraphBuilder:\n",
    "    def __init__(self):\n",
    "        # generate graph\n",
    "        self.nodes = gen_nodes(args.graph_size, args.graph_shape)\n",
    "        self.n_nodes = len(self.nodes)\n",
    "        self.graph = nx.random_geometric_graph(\n",
    "            self.n_nodes,\n",
    "            args.rg_radius,\n",
    "            pos=list_to_dict(self.nodes)\n",
    "        )\n",
    "        self.node_index_pairs = get_node_pairs(self.n_nodes)\n",
    "        self.edges: NodeIndexPairs = [\n",
    "            (i0, i1)\n",
    "            for (i0, i1) in tqdm(self.node_index_pairs, desc=\"generating dataset labels from node pairs\")\n",
    "            if self.graph.has_edge(i0, i1)\n",
    "        ]"
   ],
   "metadata": {
    "collapsed": false
   }
  },
  {
   "cell_type": "code",
   "execution_count": 41,
   "outputs": [],
   "source": [
    "# Define model\n",
    "class NeuralNetwork(nn.Module):\n",
    "    def __init__(self):\n",
    "        super().__init__()\n",
    "        #self.flatten = nn.Flatten()\n",
    "        self.linear_relu_stack = nn.Sequential(\n",
    "            nn.Linear(4, args.layer_size),\n",
    "            nn.ReLU(),\n",
    "            nn.Linear(args.layer_size, args.layer_size),\n",
    "            nn.ReLU(),\n",
    "            nn.Linear(args.layer_size, 2)\n",
    "        )\n",
    "\n",
    "    def forward(self, x):\n",
    "        #x = self.flatten(x)\n",
    "        logits = self.linear_relu_stack(x)\n",
    "        return logits"
   ],
   "metadata": {
    "collapsed": false
   }
  },
  {
   "cell_type": "code",
   "execution_count": 42,
   "outputs": [],
   "source": [
    "# Define evaluator\n",
    "class EmbeddingEvaluator:\n",
    "    def __init__(self, nodes: NodePositions, edges: NodeIndexPairs, embedding: NodePositions):\n",
    "        self.nodes = nodes # used for 2D representation of graph (not used in training)\n",
    "        self.n_nodes = len(nodes)\n",
    "        self.node_index_pairs = get_node_pairs(self.n_nodes)\n",
    "        self.edges = edges\n",
    "        self.embedding = embedding\n",
    "        # generate net\n",
    "        self.reset_net()\n",
    "        # generate dataset\n",
    "        self.ds_values = torch.tensor([\n",
    "            [*self.embedding[i0], *self.embedding[i1]] # type: [float, float, float, float]\n",
    "            for (i0, i1) in tqdm(self.node_index_pairs, desc=\"generating dataset values from node pairs\")\n",
    "        ])\n",
    "        self.ds_labels = torch.LongTensor([\n",
    "            1 if (edge in self.edges) else 0\n",
    "            for edge in tqdm(self.node_index_pairs, desc=\"generating dataset labels from node pairs\")\n",
    "        ])\n",
    "        self.dataset = TensorDataset(self.ds_values, self.ds_labels)\n",
    "        #? do we ant to over-fit?\n",
    "        self.train_dataset, self.test_dataset = torch.utils.data.random_split(self.dataset, [args.train_size, 1 - args.train_size])\n",
    "        self.train_dataloader = DataLoader(self.train_dataset, batch_size=args.batch_size, num_workers=0, shuffle=True)\n",
    "        self.test_dataloader = DataLoader(self.test_dataset, batch_size=args.batch_size, num_workers=0, shuffle=False)\n",
    "\n",
    "\n",
    "    def reset_net(self):\n",
    "        self.net = NeuralNetwork().to(device)\n",
    "\n",
    "\n",
    "    def train(self, loss_fn, optimizer):\n",
    "        for epoch in range(args.epochs):\n",
    "            with tqdm(total=len(self.train_dataloader), desc=\"starting model...\") as pbar:\n",
    "                pbar.set_description(f\"Epoch {epoch + 1}\")\n",
    "                self.__train(pbar, loss_fn, optimizer)\n",
    "                self.__test(pbar, loss_fn)\n",
    "\n",
    "\n",
    "    def __train(self, pbar, loss_fn, optimizer):\n",
    "        self.net.train()\n",
    "\n",
    "        n_train_batches = len(self.train_dataloader)\n",
    "        intv = np.ceil(n_train_batches / 100.0) # interval in which the pbar is updated (every 1%)\n",
    "        for batch, (X, y) in enumerate(self.train_dataloader):\n",
    "            X, y = X.to(device), y.to(device)\n",
    "            # Compute prediction error\n",
    "            pred = self.net(X)\n",
    "            loss = loss_fn(pred, y)\n",
    "            # Backpropagation\n",
    "            optimizer.zero_grad()\n",
    "            loss.backward()\n",
    "            optimizer.step()\n",
    "            # update progress\n",
    "            if batch % intv == 0 or batch == n_train_batches - 1:\n",
    "                pbar.update(batch - pbar.n)\n",
    "                pbar.set_postfix_str(f\"loss: {loss.item():>6f}\")\n",
    "\n",
    "\n",
    "    def __test(self, pbar, loss_fn):\n",
    "        self.net.eval()\n",
    "\n",
    "        n_test_batches = len(self.test_dataloader)\n",
    "        n_test_values = len(self.test_dataloader.dataset)\n",
    "        test_loss, correct = 0, 0\n",
    "        pbar.set_postfix_str(f\"evaluating epoch...\")\n",
    "        with torch.no_grad():\n",
    "            for x, y in self.test_dataloader:\n",
    "                x, y = x.to(device), y.to(device)\n",
    "                pred = self.net(x)\n",
    "                test_loss += loss_fn(pred, y).item()\n",
    "                correct += (pred.argmax(1) == y).type(torch.float).sum().item()\n",
    "        test_loss /= n_test_batches\n",
    "        correct /= n_test_values\n",
    "        pbar.set_postfix_str(f\"epoch result: accuracy: {(100*correct):>0.1f}%, avg_loss: {test_loss:>8f}\")\n",
    "\n",
    "\n",
    "    def predict(self, embedding: NodePositions):\n",
    "        self.net.eval()\n",
    "\n",
    "        _node_index_pairs = get_node_pairs(len(embedding))\n",
    "        _ds_values = torch.tensor([\n",
    "            [*embedding[i0], *embedding[i1]] # type: [float, float, float, float]\n",
    "            for (i0, i1) in tqdm(_node_index_pairs, desc=\"generating dataset values from node pairs\")\n",
    "        ])\n",
    "        with torch.no_grad():\n",
    "            return self.net(_ds_values.to(device))\n",
    "\n",
    "\n",
    "    def evaluate(self):\n",
    "        self.net.eval()\n",
    "\n",
    "        with torch.no_grad():\n",
    "            _predictions = self.net(self.ds_values.to(device))\n",
    "            _, _pred_labels = torch.max(_predictions, 1)\n",
    "            _probabilities = torch.nn.Softmax(dim=1)(_predictions)\n",
    "\n",
    "            print(classification_report(self.ds_labels, _pred_labels.cpu()))\n",
    "            return _predictions, _pred_labels, _probabilities"
   ],
   "metadata": {
    "collapsed": false
   }
  },
  {
   "cell_type": "code",
   "execution_count": 43,
   "outputs": [
    {
     "data": {
      "text/plain": "generating random-uniform nodes on disc:   0%|          | 0/1000 [00:00<?, ?it/s]",
      "application/vnd.jupyter.widget-view+json": {
       "version_major": 2,
       "version_minor": 0,
       "model_id": "643fecf4f6894a9fbc1b4c67aa515e16"
      }
     },
     "metadata": {},
     "output_type": "display_data"
    },
    {
     "data": {
      "text/plain": "creating dict from list:   0%|          | 0/1000 [00:00<?, ?it/s]",
      "application/vnd.jupyter.widget-view+json": {
       "version_major": 2,
       "version_minor": 0,
       "model_id": "16866f39a72543978d09cfd5054c5ad1"
      }
     },
     "metadata": {},
     "output_type": "display_data"
    },
    {
     "data": {
      "text/plain": "generating node pairs:   0%|          | 0/1000 [00:00<?, ?it/s]",
      "application/vnd.jupyter.widget-view+json": {
       "version_major": 2,
       "version_minor": 0,
       "model_id": "bdfcaf8f98b54387837befca6d3dcd48"
      }
     },
     "metadata": {},
     "output_type": "display_data"
    },
    {
     "data": {
      "text/plain": "generating dataset labels from node pairs:   0%|          | 0/499500 [00:00<?, ?it/s]",
      "application/vnd.jupyter.widget-view+json": {
       "version_major": 2,
       "version_minor": 0,
       "model_id": "0e6bd70e60ec4b2ebcf9b0f228b77b61"
      }
     },
     "metadata": {},
     "output_type": "display_data"
    },
    {
     "data": {
      "text/plain": "generating node pairs:   0%|          | 0/1000 [00:00<?, ?it/s]",
      "application/vnd.jupyter.widget-view+json": {
       "version_major": 2,
       "version_minor": 0,
       "model_id": "e4980e72b04345a8ac916d6a21ca7890"
      }
     },
     "metadata": {},
     "output_type": "display_data"
    },
    {
     "data": {
      "text/plain": "generating dataset values from node pairs:   0%|          | 0/499500 [00:00<?, ?it/s]",
      "application/vnd.jupyter.widget-view+json": {
       "version_major": 2,
       "version_minor": 0,
       "model_id": "abe8f5c64a0442dfb7b900ce443e34cc"
      }
     },
     "metadata": {},
     "output_type": "display_data"
    },
    {
     "data": {
      "text/plain": "generating dataset labels from node pairs:   0%|          | 0/499500 [00:00<?, ?it/s]",
      "application/vnd.jupyter.widget-view+json": {
       "version_major": 2,
       "version_minor": 0,
       "model_id": "47ffbce69a474ab8b1e806d7dfa5f5c6"
      }
     },
     "metadata": {},
     "output_type": "display_data"
    },
    {
     "data": {
      "text/plain": "starting model...:   0%|          | 0/5464 [00:00<?, ?it/s]",
      "application/vnd.jupyter.widget-view+json": {
       "version_major": 2,
       "version_minor": 0,
       "model_id": "ad6ed8069441488788e0c2c62c0ca855"
      }
     },
     "metadata": {},
     "output_type": "display_data"
    },
    {
     "data": {
      "text/plain": "starting model...:   0%|          | 0/5464 [00:00<?, ?it/s]",
      "application/vnd.jupyter.widget-view+json": {
       "version_major": 2,
       "version_minor": 0,
       "model_id": "29fb15920e0d442bacefa7c052ac4de6"
      }
     },
     "metadata": {},
     "output_type": "display_data"
    },
    {
     "data": {
      "text/plain": "starting model...:   0%|          | 0/5464 [00:00<?, ?it/s]",
      "application/vnd.jupyter.widget-view+json": {
       "version_major": 2,
       "version_minor": 0,
       "model_id": "301012f4c04d42abbb7721d84b729f64"
      }
     },
     "metadata": {},
     "output_type": "display_data"
    },
    {
     "data": {
      "text/plain": "starting model...:   0%|          | 0/5464 [00:00<?, ?it/s]",
      "application/vnd.jupyter.widget-view+json": {
       "version_major": 2,
       "version_minor": 0,
       "model_id": "3f0638f87dc84a44b80545bff79ad49d"
      }
     },
     "metadata": {},
     "output_type": "display_data"
    },
    {
     "data": {
      "text/plain": "starting model...:   0%|          | 0/5464 [00:00<?, ?it/s]",
      "application/vnd.jupyter.widget-view+json": {
       "version_major": 2,
       "version_minor": 0,
       "model_id": "8425dd08504044d28e00e68e6542e2ce"
      }
     },
     "metadata": {},
     "output_type": "display_data"
    },
    {
     "data": {
      "text/plain": "starting model...:   0%|          | 0/5464 [00:00<?, ?it/s]",
      "application/vnd.jupyter.widget-view+json": {
       "version_major": 2,
       "version_minor": 0,
       "model_id": "0e0eb49bd2a148c58eec7afeb387979e"
      }
     },
     "metadata": {},
     "output_type": "display_data"
    },
    {
     "data": {
      "text/plain": "starting model...:   0%|          | 0/5464 [00:00<?, ?it/s]",
      "application/vnd.jupyter.widget-view+json": {
       "version_major": 2,
       "version_minor": 0,
       "model_id": "9a2767a039d14bd2baf51c9b6f07a053"
      }
     },
     "metadata": {},
     "output_type": "display_data"
    },
    {
     "data": {
      "text/plain": "starting model...:   0%|          | 0/5464 [00:00<?, ?it/s]",
      "application/vnd.jupyter.widget-view+json": {
       "version_major": 2,
       "version_minor": 0,
       "model_id": "e2a901da67814233861c959adba75b36"
      }
     },
     "metadata": {},
     "output_type": "display_data"
    },
    {
     "data": {
      "text/plain": "starting model...:   0%|          | 0/5464 [00:00<?, ?it/s]",
      "application/vnd.jupyter.widget-view+json": {
       "version_major": 2,
       "version_minor": 0,
       "model_id": "4941219cf02240a7958e34913dfeef69"
      }
     },
     "metadata": {},
     "output_type": "display_data"
    },
    {
     "data": {
      "text/plain": "starting model...:   0%|          | 0/5464 [00:00<?, ?it/s]",
      "application/vnd.jupyter.widget-view+json": {
       "version_major": 2,
       "version_minor": 0,
       "model_id": "ab6e371ecf42468784cf471d139dc530"
      }
     },
     "metadata": {},
     "output_type": "display_data"
    },
    {
     "data": {
      "text/plain": "starting model...:   0%|          | 0/5464 [00:00<?, ?it/s]",
      "application/vnd.jupyter.widget-view+json": {
       "version_major": 2,
       "version_minor": 0,
       "model_id": "825546d3cf1d47a8919fd3e602853ee2"
      }
     },
     "metadata": {},
     "output_type": "display_data"
    },
    {
     "data": {
      "text/plain": "starting model...:   0%|          | 0/5464 [00:00<?, ?it/s]",
      "application/vnd.jupyter.widget-view+json": {
       "version_major": 2,
       "version_minor": 0,
       "model_id": "7b2f1cd1b63548aab031d8ddd5ba1c54"
      }
     },
     "metadata": {},
     "output_type": "display_data"
    },
    {
     "data": {
      "text/plain": "starting model...:   0%|          | 0/5464 [00:00<?, ?it/s]",
      "application/vnd.jupyter.widget-view+json": {
       "version_major": 2,
       "version_minor": 0,
       "model_id": "65378fbb66bf454988f2cd74cc555162"
      }
     },
     "metadata": {},
     "output_type": "display_data"
    },
    {
     "data": {
      "text/plain": "starting model...:   0%|          | 0/5464 [00:00<?, ?it/s]",
      "application/vnd.jupyter.widget-view+json": {
       "version_major": 2,
       "version_minor": 0,
       "model_id": "de5629876a9543da85030f2dec746ed1"
      }
     },
     "metadata": {},
     "output_type": "display_data"
    },
    {
     "data": {
      "text/plain": "starting model...:   0%|          | 0/5464 [00:00<?, ?it/s]",
      "application/vnd.jupyter.widget-view+json": {
       "version_major": 2,
       "version_minor": 0,
       "model_id": "88ecef2e2c594b1eb5d37bf6d2b952b0"
      }
     },
     "metadata": {},
     "output_type": "display_data"
    },
    {
     "data": {
      "text/plain": "starting model...:   0%|          | 0/5464 [00:00<?, ?it/s]",
      "application/vnd.jupyter.widget-view+json": {
       "version_major": 2,
       "version_minor": 0,
       "model_id": "0edb651d33844706a2866bc034aae9fc"
      }
     },
     "metadata": {},
     "output_type": "display_data"
    },
    {
     "data": {
      "text/plain": "starting model...:   0%|          | 0/5464 [00:00<?, ?it/s]",
      "application/vnd.jupyter.widget-view+json": {
       "version_major": 2,
       "version_minor": 0,
       "model_id": "d5f6b9dae69443f3bab00b753951f05e"
      }
     },
     "metadata": {},
     "output_type": "display_data"
    },
    {
     "data": {
      "text/plain": "starting model...:   0%|          | 0/5464 [00:00<?, ?it/s]",
      "application/vnd.jupyter.widget-view+json": {
       "version_major": 2,
       "version_minor": 0,
       "model_id": "ae2bff7ee6644df9998d62d26d87c045"
      }
     },
     "metadata": {},
     "output_type": "display_data"
    },
    {
     "data": {
      "text/plain": "starting model...:   0%|          | 0/5464 [00:00<?, ?it/s]",
      "application/vnd.jupyter.widget-view+json": {
       "version_major": 2,
       "version_minor": 0,
       "model_id": "1dea83aaac3c48b190239741e356970b"
      }
     },
     "metadata": {},
     "output_type": "display_data"
    },
    {
     "data": {
      "text/plain": "starting model...:   0%|          | 0/5464 [00:00<?, ?it/s]",
      "application/vnd.jupyter.widget-view+json": {
       "version_major": 2,
       "version_minor": 0,
       "model_id": "ca54f596374d46ff8cc33c97fb83a5e3"
      }
     },
     "metadata": {},
     "output_type": "display_data"
    },
    {
     "data": {
      "text/plain": "starting model...:   0%|          | 0/5464 [00:00<?, ?it/s]",
      "application/vnd.jupyter.widget-view+json": {
       "version_major": 2,
       "version_minor": 0,
       "model_id": "47ed64fb7d674a1a9e8f235614c7f19e"
      }
     },
     "metadata": {},
     "output_type": "display_data"
    },
    {
     "data": {
      "text/plain": "starting model...:   0%|          | 0/5464 [00:00<?, ?it/s]",
      "application/vnd.jupyter.widget-view+json": {
       "version_major": 2,
       "version_minor": 0,
       "model_id": "40f02ccd4246416d9609e0721dcbd93c"
      }
     },
     "metadata": {},
     "output_type": "display_data"
    },
    {
     "data": {
      "text/plain": "starting model...:   0%|          | 0/5464 [00:00<?, ?it/s]",
      "application/vnd.jupyter.widget-view+json": {
       "version_major": 2,
       "version_minor": 0,
       "model_id": "51ec0e82592f47ec999359d332d244e6"
      }
     },
     "metadata": {},
     "output_type": "display_data"
    },
    {
     "data": {
      "text/plain": "starting model...:   0%|          | 0/5464 [00:00<?, ?it/s]",
      "application/vnd.jupyter.widget-view+json": {
       "version_major": 2,
       "version_minor": 0,
       "model_id": "f2a3352553ca4593819ae756e57c7af8"
      }
     },
     "metadata": {},
     "output_type": "display_data"
    },
    {
     "data": {
      "text/plain": "starting model...:   0%|          | 0/5464 [00:00<?, ?it/s]",
      "application/vnd.jupyter.widget-view+json": {
       "version_major": 2,
       "version_minor": 0,
       "model_id": "c0dfa87f26b6460bb4d37fd93506a1ca"
      }
     },
     "metadata": {},
     "output_type": "display_data"
    },
    {
     "data": {
      "text/plain": "starting model...:   0%|          | 0/5464 [00:00<?, ?it/s]",
      "application/vnd.jupyter.widget-view+json": {
       "version_major": 2,
       "version_minor": 0,
       "model_id": "ab6c142eac2e4d158238fcfbc4c3395d"
      }
     },
     "metadata": {},
     "output_type": "display_data"
    },
    {
     "data": {
      "text/plain": "starting model...:   0%|          | 0/5464 [00:00<?, ?it/s]",
      "application/vnd.jupyter.widget-view+json": {
       "version_major": 2,
       "version_minor": 0,
       "model_id": "03412b4441ed490eb366418d9c4f5a24"
      }
     },
     "metadata": {},
     "output_type": "display_data"
    },
    {
     "data": {
      "text/plain": "starting model...:   0%|          | 0/5464 [00:00<?, ?it/s]",
      "application/vnd.jupyter.widget-view+json": {
       "version_major": 2,
       "version_minor": 0,
       "model_id": "38cc11bfda9d4681a60ea0103c82fd89"
      }
     },
     "metadata": {},
     "output_type": "display_data"
    },
    {
     "data": {
      "text/plain": "starting model...:   0%|          | 0/5464 [00:00<?, ?it/s]",
      "application/vnd.jupyter.widget-view+json": {
       "version_major": 2,
       "version_minor": 0,
       "model_id": "54ca565cfa1047e2be3ecc5104ee3afc"
      }
     },
     "metadata": {},
     "output_type": "display_data"
    },
    {
     "data": {
      "text/plain": "starting model...:   0%|          | 0/5464 [00:00<?, ?it/s]",
      "application/vnd.jupyter.widget-view+json": {
       "version_major": 2,
       "version_minor": 0,
       "model_id": "d02e0f946e924903814a05bd192054a5"
      }
     },
     "metadata": {},
     "output_type": "display_data"
    }
   ],
   "source": [
    "# build and run evaluator\n",
    "graph_builder = RandomGeometricGraphBuilder()\n",
    "evaluator = EmbeddingEvaluator(\n",
    "    graph_builder.nodes,\n",
    "    graph_builder.edges,\n",
    "    graph_builder.nodes # for random geometric graph, the structure defines the embedding\n",
    ")\n",
    "\n",
    "evaluator.train(\n",
    "    loss_fn=nn.CrossEntropyLoss(),\n",
    "    optimizer=torch.optim.SGD(evaluator.net.parameters(), lr=1e-3)\n",
    ")"
   ],
   "metadata": {
    "collapsed": false
   }
  },
  {
   "cell_type": "code",
   "execution_count": 44,
   "outputs": [
    {
     "name": "stderr",
     "output_type": "stream",
     "text": [
      "/home/paul/Projects/embedding-eval-framework/venv/lib/python3.8/site-packages/sklearn/metrics/_classification.py:1344: UndefinedMetricWarning: Precision and F-score are ill-defined and being set to 0.0 in labels with no predicted samples. Use `zero_division` parameter to control this behavior.\n",
      "  _warn_prf(average, modifier, msg_start, len(result))\n",
      "/home/paul/Projects/embedding-eval-framework/venv/lib/python3.8/site-packages/sklearn/metrics/_classification.py:1344: UndefinedMetricWarning: Precision and F-score are ill-defined and being set to 0.0 in labels with no predicted samples. Use `zero_division` parameter to control this behavior.\n",
      "  _warn_prf(average, modifier, msg_start, len(result))\n"
     ]
    },
    {
     "name": "stdout",
     "output_type": "stream",
     "text": [
      "              precision    recall  f1-score   support\n",
      "\n",
      "           0       0.99      1.00      1.00    494700\n",
      "           1       0.00      0.00      0.00      4800\n",
      "\n",
      "    accuracy                           0.99    499500\n",
      "   macro avg       0.50      0.50      0.50    499500\n",
      "weighted avg       0.98      0.99      0.99    499500\n",
      "\n",
      "tensor([[0.9899, 0.0101],\n",
      "        [0.9878, 0.0122],\n",
      "        [0.9862, 0.0138],\n",
      "        ...,\n",
      "        [0.9863, 0.0137],\n",
      "        [0.9856, 0.0144],\n",
      "        [0.9876, 0.0124]], device='cuda:0')\n"
     ]
    },
    {
     "name": "stderr",
     "output_type": "stream",
     "text": [
      "/home/paul/Projects/embedding-eval-framework/venv/lib/python3.8/site-packages/sklearn/metrics/_classification.py:1344: UndefinedMetricWarning: Precision and F-score are ill-defined and being set to 0.0 in labels with no predicted samples. Use `zero_division` parameter to control this behavior.\n",
      "  _warn_prf(average, modifier, msg_start, len(result))\n"
     ]
    }
   ],
   "source": [
    "# evaluate embedding\n",
    "predictions, pred_labels, probabilities = evaluator.evaluate()\n",
    "print(probabilities)"
   ],
   "metadata": {
    "collapsed": false
   }
  },
  {
   "cell_type": "code",
   "execution_count": 44,
   "outputs": [],
   "source": [],
   "metadata": {
    "collapsed": false
   }
  }
 ],
 "metadata": {
  "kernelspec": {
   "display_name": "Python 3",
   "language": "python",
   "name": "python3"
  },
  "language_info": {
   "codemirror_mode": {
    "name": "ipython",
    "version": 2
   },
   "file_extension": ".py",
   "mimetype": "text/x-python",
   "name": "python",
   "nbconvert_exporter": "python",
   "pygments_lexer": "ipython2",
   "version": "2.7.6"
  }
 },
 "nbformat": 4,
 "nbformat_minor": 0
}
