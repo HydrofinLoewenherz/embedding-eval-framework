{
 "cells": [
  {
   "cell_type": "code",
   "execution_count": null,
   "outputs": [],
   "source": [
    "# switch to main dir to fix local imports\n",
    "import os\n",
    "if os.getcwd().endswith(\"notebooks\"):\n",
    "    os.chdir(\"..\")\n",
    "\n",
    "# package imports\n",
    "from dataclasses import asdict\n",
    "from datetime import datetime\n",
    "import time\n",
    "import seaborn as sns\n",
    "import pandas as pd\n",
    "import matplotlib.pyplot as plt\n",
    "import glob\n",
    "import torch\n",
    "from tqdm.notebook import tqdm\n",
    "\n",
    "# local imports\n",
    "from src.evaluator import Evaluator\n",
    "from src.args import Args\n",
    "import src.graphs as graphs\n",
    "\n",
    "# start autoreload\n",
    "%load_ext autoreload\n",
    "%autoreload 2\n",
    "\n",
    "# select device for machine learning\n",
    "device = \"cuda\" if torch.cuda.is_available() else (\"mps\" if torch.backends.mps.is_available() else \"cpu\")\n",
    "print(f\"using device: {device}\")\n",
    "\n",
    "# settings for plots (seaborn/matplotlib)\n",
    "sns.set_context(\"paper\")\n",
    "sns.set_style(\"darkgrid\", {\"grid.color\": \".8\"})\n",
    "palette = \"Dark2\""
   ],
   "metadata": {
    "collapsed": false
   }
  },
  {
   "cell_type": "markdown",
   "source": [
    "### Load dataframe"
   ],
   "metadata": {
    "collapsed": false
   }
  },
  {
   "cell_type": "code",
   "execution_count": null,
   "outputs": [],
   "source": [
    "result = pd.concat((pd.read_csv(f) for f in glob.glob(\"/out/load/*.csv.zip\")), ignore_index=True)"
   ],
   "metadata": {
    "collapsed": false
   }
  },
  {
   "cell_type": "markdown",
   "source": [
    "# Test standardized graph features on GIRG"
   ],
   "metadata": {
    "collapsed": false
   }
  },
  {
   "cell_type": "code",
   "execution_count": null,
   "outputs": [],
   "source": [
    "# setup experiment arguments\n",
    "args_list = [\n",
    "    Args(\n",
    "        graph_type=\"girg\",\n",
    "        subgraph_alpha=0.15,\n",
    "        sort_dataset=sort_dataset,\n",
    "    )\n",
    "    for sort_dataset in [True, False]\n",
    "    for _ in range(5)  # repetitions for representative results\n",
    "]\n",
    "experiment_key = f\"sorted-girg-rjs--{datetime.now().strftime('%d-%m--%H-%M')}\""
   ],
   "metadata": {
    "collapsed": false
   }
  },
  {
   "cell_type": "code",
   "execution_count": null,
   "outputs": [],
   "source": [
    "# generate data\n",
    "result = pd.DataFrame({})\n",
    "for r, args in enumerate(tqdm(args_list)):\n",
    "    graph = graphs.gen_graph(args)\n",
    "    evaluator = Evaluator(\n",
    "        graph=graph,\n",
    "        args=args,\n",
    "        writer_log_dir=f\"runs/{experiment_key}/{args.graph_type}--{args.__hash__()}--{r}\",\n",
    "        device=device\n",
    "    )\n",
    "    # train the model\n",
    "    start_time = time.perf_counter()\n",
    "    evaluator.train(\n",
    "        optimizer=torch.optim.Adam(evaluator.net.parameters(), lr=1e-3),\n",
    "        pbar=False\n",
    "    )\n",
    "    end_time = time.perf_counter()\n",
    "    # test the model\n",
    "    test_loss, test_ap, test_f1, test_threshold = evaluator.test(\n",
    "        epoch=args.epochs\n",
    "    )\n",
    "    result = pd.concat([\n",
    "        result,\n",
    "        pd.Series({\n",
    "            \"run_time\": end_time - start_time,\n",
    "            \"loss\": test_loss,\n",
    "            \"ap\": test_ap,\n",
    "            \"f1\": test_f1,\n",
    "            **asdict(args),\n",
    "        }).to_frame().T\n",
    "    ], ignore_index=True)\n",
    "    # save after every iteration in case the experiment is interrupted\n",
    "    result.to_csv(f\"./out/{experiment_key}.csv.zip\", index=False, compression=dict(method='zip', archive_name=f\"data.csv\"))"
   ],
   "metadata": {
    "collapsed": false
   }
  },
  {
   "cell_type": "code",
   "execution_count": null,
   "outputs": [],
   "source": [
    "# plot average precision\n",
    "sns.boxplot(\n",
    "    data=result,\n",
    "    x=\"sort_dataset\",\n",
    "    y=\"ap\",\n",
    "    palette=palette,\n",
    ").set(\n",
    "    xlabel='Sorted Dataset',\n",
    "    ylabel='Average Precision'\n",
    ")\n",
    "plt.tight_layout(pad=2)\n",
    "plt.savefig(\"./out/sorted_box_girg.pdf\")"
   ],
   "metadata": {
    "collapsed": false
   }
  },
  {
   "cell_type": "code",
   "execution_count": null,
   "outputs": [],
   "source": [
    "# plot runtime\n",
    "sns.boxplot(\n",
    "    data=result,\n",
    "    x=\"sort_dataset\",\n",
    "    y=\"run_time\",\n",
    "    palette=palette,\n",
    ").set(\n",
    "    xlabel='Sorted Dataset',\n",
    "    ylabel='Runtime [sec]'\n",
    ")\n",
    "plt.tight_layout(pad=2)\n",
    "plt.savefig(\"./out/sorted_box_runtime_girg.pdf\")"
   ],
   "metadata": {
    "collapsed": false
   }
  },
  {
   "cell_type": "code",
   "execution_count": null,
   "outputs": [],
   "source": [],
   "metadata": {
    "collapsed": false
   }
  }
 ],
 "metadata": {
  "kernelspec": {
   "display_name": "Python 3",
   "language": "python",
   "name": "python3"
  },
  "language_info": {
   "codemirror_mode": {
    "name": "ipython",
    "version": 2
   },
   "file_extension": ".py",
   "mimetype": "text/x-python",
   "name": "python",
   "nbconvert_exporter": "python",
   "pygments_lexer": "ipython2",
   "version": "2.7.6"
  }
 },
 "nbformat": 4,
 "nbformat_minor": 0
}
