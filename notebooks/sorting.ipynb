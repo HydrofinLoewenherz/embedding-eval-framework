{
 "cells": [
  {
   "cell_type": "code",
   "execution_count": 1,
   "metadata": {
    "collapsed": true,
    "ExecuteTime": {
     "end_time": "2023-05-05T08:22:44.368449512Z",
     "start_time": "2023-05-05T08:22:44.364945131Z"
    }
   },
   "outputs": [
    {
     "name": "stdout",
     "output_type": "stream",
     "text": [
      "using project root as working dir\n"
     ]
    }
   ],
   "source": [
    "# switch to main dir to fix imports\n",
    "import os\n",
    "\n",
    "if os.getcwd().endswith(\"notebooks\"):\n",
    "    os.chdir(\"..\")\n",
    "    print(\"using project root as working dir\")"
   ]
  },
  {
   "cell_type": "code",
   "execution_count": 2,
   "outputs": [],
   "source": [
    "from dataclasses import asdict\n",
    "from datetime import datetime\n",
    "import time\n",
    "import seaborn as sns\n",
    "import pandas as pd\n",
    "import matplotlib.pyplot as plt\n",
    "import glob\n",
    "import torch\n",
    "from tqdm.notebook import tqdm\n",
    "import numpy as np\n",
    "\n",
    "from src.evaluator import Evaluator\n",
    "from src.args import Args\n",
    "import src.graphs as graphs"
   ],
   "metadata": {
    "collapsed": false,
    "ExecuteTime": {
     "end_time": "2023-05-05T08:22:45.387234872Z",
     "start_time": "2023-05-05T08:22:44.368044479Z"
    }
   }
  },
  {
   "cell_type": "code",
   "execution_count": 3,
   "outputs": [
    {
     "name": "stdout",
     "output_type": "stream",
     "text": [
      "using cuda device\n"
     ]
    }
   ],
   "source": [
    "# start autoreload\n",
    "%load_ext autoreload\n",
    "%autoreload 2\n",
    "\n",
    "# select device\n",
    "device = \"cuda\" if torch.cuda.is_available() else (\"mps\" if torch.backends.mps.is_available() else \"cpu\")\n",
    "print(f\"using {device} device\")\n",
    "\n",
    "# global seaborn settings\n",
    "sns.set_context(\"paper\")\n",
    "sns.set_style(\"darkgrid\", {\"grid.color\": \".8\"})\n",
    "palette = \"Dark2\""
   ],
   "metadata": {
    "collapsed": false,
    "ExecuteTime": {
     "end_time": "2023-05-05T08:22:45.434670811Z",
     "start_time": "2023-05-05T08:22:45.387706004Z"
    }
   }
  },
  {
   "cell_type": "markdown",
   "source": [
    "# Load data frames\n"
   ],
   "metadata": {
    "collapsed": false
   }
  },
  {
   "cell_type": "code",
   "execution_count": 17,
   "outputs": [],
   "source": [
    "# load data frame from folder\n",
    "path = \"./out/load\"\n",
    "files = glob.glob(os.path.join(path, \"*.csv.zip\"))\n",
    "df = pd.concat((pd.read_csv(f) for f in files), ignore_index=True)\n",
    "\n",
    "# either replace or concat\n",
    "result = df\n",
    "#df_result = pd.concat((df_result, df), ignore_index=True)"
   ],
   "metadata": {
    "collapsed": false,
    "ExecuteTime": {
     "end_time": "2023-05-04T13:12:41.290721537Z",
     "start_time": "2023-05-04T13:12:41.266858533Z"
    }
   }
  },
  {
   "cell_type": "code",
   "execution_count": null,
   "outputs": [],
   "source": [
    "# save data frame\n",
    "result.to_csv(os.path.join(path, \"./out/saved.csv.zip\"), index=False, compression=dict(method='zip', archive_name=f\"data.csv\"))"
   ],
   "metadata": {
    "collapsed": false
   }
  },
  {
   "cell_type": "markdown",
   "source": [
    "# Test standardized graph features on GIRG"
   ],
   "metadata": {
    "collapsed": false
   }
  },
  {
   "cell_type": "code",
   "execution_count": 4,
   "outputs": [],
   "source": [
    "# 1. configure experiment\n",
    "args_list = [\n",
    "    Args(\n",
    "        graph_type=\"girg\",\n",
    "        subgraph_alpha=0.15,\n",
    "        sort_dataset=sort_dataset,\n",
    "    )\n",
    "    for sort_dataset in [True, False]\n",
    "]\n",
    "experiment_key = f\"sorted-girg-rjs--{datetime.now().strftime('%d-%m--%H-%M')}\"\n",
    "repetitions = 5"
   ],
   "metadata": {
    "collapsed": false,
    "ExecuteTime": {
     "end_time": "2023-05-05T08:23:18.243055384Z",
     "start_time": "2023-05-05T08:23:17.759111753Z"
    }
   }
  },
  {
   "cell_type": "code",
   "execution_count": 5,
   "outputs": [],
   "source": [
    "# 2. define how to evaluate\n",
    "def evaluate(args: Args, rep: int) -> pd.DataFrame:\n",
    "        graph = graphs.gen_graph(args)\n",
    "        evaluator = Evaluator(\n",
    "            graph=graph,\n",
    "            args=args,\n",
    "            writer_log_dir=f\"runs/{experiment_key}/{args.graph_type}--{args.__hash__()}--{rep}\",\n",
    "            device=device\n",
    "        )\n",
    "        # train the model\n",
    "        start_time = time.perf_counter()\n",
    "        evaluator.train(\n",
    "            optimizer=torch.optim.Adam(evaluator.net.parameters(), lr=1e-3),\n",
    "            pbar=False\n",
    "        )\n",
    "        end_time = time.perf_counter()\n",
    "        # test the model\n",
    "        test_loss, test_ap, test_f1, test_threshold = evaluator.test(\n",
    "            epoch=args.epochs\n",
    "        )\n",
    "        return pd.DataFrame({\n",
    "            # run meta\n",
    "            \"rep\": rep,\n",
    "            \"run_time\": end_time - start_time,\n",
    "            # run results\n",
    "            \"loss\": test_loss,\n",
    "            \"ap\": test_ap,\n",
    "            \"f1\": test_f1,\n",
    "            # run args\n",
    "            **asdict(args),\n",
    "        })"
   ],
   "metadata": {
    "collapsed": false,
    "ExecuteTime": {
     "end_time": "2023-05-05T08:23:22.153744405Z",
     "start_time": "2023-05-05T08:23:22.132880022Z"
    }
   }
  },
  {
   "cell_type": "code",
   "execution_count": 6,
   "outputs": [
    {
     "data": {
      "text/plain": "  0%|          | 0/10 [00:00<?, ?it/s]",
      "application/vnd.jupyter.widget-view+json": {
       "version_major": 2,
       "version_minor": 0,
       "model_id": "49c176eeefd348628e69188972cd7ec6"
      }
     },
     "metadata": {},
     "output_type": "display_data"
    }
   ],
   "source": [
    "# 3. run experiment\n",
    "result = pd.DataFrame({})\n",
    "for args, rep in tqdm([\n",
    "    (args, rep)\n",
    "    for args in args_list\n",
    "    for rep in range(repetitions)\n",
    "]):\n",
    "    res = evaluate(args, rep)\n",
    "    result = pd.concat([result, res], ignore_index=True)\n",
    "    result.to_csv(f\"./out/{experiment_key}.csv.zip\", index=False, compression=dict(method='zip', archive_name=f\"data.csv\"))"
   ],
   "metadata": {
    "collapsed": false,
    "ExecuteTime": {
     "end_time": "2023-05-05T08:40:21.964086437Z",
     "start_time": "2023-05-05T08:23:26.876129631Z"
    }
   }
  },
  {
   "cell_type": "markdown",
   "source": [
    "# Plot results"
   ],
   "metadata": {
    "collapsed": false
   }
  },
  {
   "cell_type": "code",
   "execution_count": 7,
   "outputs": [
    {
     "data": {
      "text/plain": "<Figure size 500x500 with 1 Axes>",
      "image/png": "[encoded data removed]"
     },
     "metadata": {},
     "output_type": "display_data"
    }
   ],
   "source": [
    "df_result_mean_ap = result.groupby([\"sort_dataset\"], as_index=False)[\"ap\"].mean().sort_values(by=['ap'])\n",
    "\n",
    "g = sns.catplot(\n",
    "    data=df_result_mean_ap,\n",
    "    x=\"sort_dataset\",\n",
    "    y=\"ap\",\n",
    "    palette=palette,\n",
    "    kind = \"bar\"\n",
    ")\n",
    "g.set_axis_labels(\"Sorted Dataset\", \"Average Precision\")\n",
    "g.figure.savefig(\"./out/sorted_girg.pdf\")"
   ],
   "metadata": {
    "collapsed": false,
    "ExecuteTime": {
     "end_time": "2023-05-05T08:40:22.193408795Z",
     "start_time": "2023-05-05T08:40:21.963646382Z"
    }
   }
  },
  {
   "cell_type": "code",
   "execution_count": 9,
   "outputs": [
    {
     "data": {
      "text/plain": "<Figure size 500x500 with 1 Axes>",
      "image/png": "[encoded data removed]"
     },
     "metadata": {},
     "output_type": "display_data"
    }
   ],
   "source": [
    "df_result_mean_ap = result.groupby([\"sort_dataset\"], as_index=False)[\"run_time\"].mean().sort_values(by=['run_time'])\n",
    "\n",
    "g = sns.catplot(\n",
    "    data=df_result_mean_ap,\n",
    "    x=\"sort_dataset\",\n",
    "    y=\"run_time\",\n",
    "    palette=palette,\n",
    "    kind = \"bar\"\n",
    ")\n",
    "g.set_axis_labels(\"Sorted Dataset\", \"Average Runtime [sec]\")\n",
    "g.figure.savefig(\"./out/sorted_runtime_girg.pdf\")"
   ],
   "metadata": {
    "collapsed": false,
    "ExecuteTime": {
     "end_time": "2023-05-05T09:12:37.657641616Z",
     "start_time": "2023-05-05T09:12:37.490037985Z"
    }
   }
  },
  {
   "cell_type": "code",
   "execution_count": null,
   "outputs": [],
   "source": [],
   "metadata": {
    "collapsed": false
   }
  }
 ],
 "metadata": {
  "kernelspec": {
   "display_name": "Python 3",
   "language": "python",
   "name": "python3"
  },
  "language_info": {
   "codemirror_mode": {
    "name": "ipython",
    "version": 2
   },
   "file_extension": ".py",
   "mimetype": "text/x-python",
   "name": "python",
   "nbconvert_exporter": "python",
   "pygments_lexer": "ipython2",
   "version": "2.7.6"
  }
 },
 "nbformat": 4,
 "nbformat_minor": 0
}
