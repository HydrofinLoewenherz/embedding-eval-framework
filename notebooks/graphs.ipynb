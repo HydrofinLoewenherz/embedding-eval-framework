{
 "cells": [
  {
   "cell_type": "code",
   "execution_count": 1,
   "outputs": [
    {
     "name": "stdout",
     "output_type": "stream",
     "text": [
      "using project root as working dir\n"
     ]
    }
   ],
   "source": [
    "# switch to main dir to fix imports\n",
    "import os\n",
    "\n",
    "if os.getcwd().endswith(\"notebooks\"):\n",
    "    os.chdir(\"..\")\n",
    "    print(\"using project root as working dir\")"
   ],
   "metadata": {
    "collapsed": false,
    "ExecuteTime": {
     "start_time": "2023-04-22T11:21:51.248169Z",
     "end_time": "2023-04-22T11:21:51.249225Z"
    }
   }
  },
  {
   "cell_type": "code",
   "execution_count": 16,
   "outputs": [],
   "source": [
    "import networkx as nx\n",
    "import numpy as np\n",
    "from dataclasses import asdict\n",
    "import seaborn as sns\n",
    "import pandas as pd\n",
    "import matplotlib.pyplot as plt\n",
    "from  matplotlib.ticker import PercentFormatter\n",
    "import glob\n",
    "import torch\n",
    "from tqdm.notebook import tqdm\n",
    "\n",
    "from src.args import Args\n",
    "import src.graph_visualization as graph_visualization\n",
    "import src.subgraphs as subgraphs\n",
    "import src.graphs as graphs\n",
    "from src.toroid import on_toroid"
   ],
   "metadata": {
    "collapsed": false,
    "ExecuteTime": {
     "start_time": "2023-04-22T11:28:27.332552Z",
     "end_time": "2023-04-22T11:28:27.338775Z"
    }
   }
  },
  {
   "cell_type": "code",
   "execution_count": 3,
   "outputs": [
    {
     "name": "stdout",
     "output_type": "stream",
     "text": [
      "using cuda device\n"
     ]
    }
   ],
   "source": [
    "# start autoreload\n",
    "%load_ext autoreload\n",
    "%autoreload 2\n",
    "\n",
    "# select device\n",
    "device = \"cuda\" if torch.cuda.is_available() else (\"mps\" if torch.backends.mps.is_available() else \"cpu\")\n",
    "print(f\"using {device} device\")\n",
    "\n",
    "# global seaborn settings\n",
    "sns.set_context(\"paper\")\n",
    "sns.set_style(\"darkgrid\", {\"grid.color\": \".8\"})\n",
    "palette = \"Dark2\""
   ],
   "metadata": {
    "collapsed": false,
    "ExecuteTime": {
     "start_time": "2023-04-22T11:21:52.051142Z",
     "end_time": "2023-04-22T11:21:52.088993Z"
    }
   }
  },
  {
   "cell_type": "markdown",
   "source": [
    "# Load data frames"
   ],
   "metadata": {
    "collapsed": false
   }
  },
  {
   "cell_type": "code",
   "execution_count": 6,
   "outputs": [],
   "source": [
    "# load data frame from folder\n",
    "path = \"./out/load\"\n",
    "files = glob.glob(os.path.join(path, \"*.csv.zip\"))\n",
    "df = pd.concat((pd.read_csv(f) for f in files), ignore_index=True)\n",
    "\n",
    "# either replace or concat\n",
    "result = df\n",
    "#df_result = pd.concat((df_result, df), ignore_index=True)"
   ],
   "metadata": {
    "collapsed": false,
    "ExecuteTime": {
     "start_time": "2023-04-22T11:22:31.629016Z",
     "end_time": "2023-04-22T11:22:31.657439Z"
    }
   }
  },
  {
   "cell_type": "code",
   "execution_count": null,
   "outputs": [],
   "source": [
    "# save data frame\n",
    "result.to_csv(os.path.join(path, \"./out/saved.csv.zip\"), index=False, compression=dict(method='zip', archive_name=f\"data.csv\"))"
   ],
   "metadata": {
    "collapsed": false
   }
  },
  {
   "cell_type": "markdown",
   "source": [
    "# Plot BFS/DFS subgraph for RGG"
   ],
   "metadata": {
    "collapsed": false
   }
  },
  {
   "cell_type": "code",
   "execution_count": null,
   "outputs": [],
   "source": [
    "args = Args(\n",
    "    graph_type=\"rgg\",\n",
    "    graph_size=500,\n",
    "    # rgg specific settings\n",
    "    rgg_avg_degree=10\n",
    ")\n",
    "graph = graphs.gen_graph(args)\n",
    "\n",
    "bfs_sub = subgraphs.bfs_of(graph, args.epoch_graph_size)\n",
    "dfs_sub = subgraphs.dfs_of(graph, args.epoch_graph_size)\n",
    "\n",
    "# draw original graph (use to select good-looking graph)\n",
    "fig_size = 10\n",
    "fig, axs = plt.subplots(\n",
    "    ncols=2,\n",
    "    figsize=(fig_size * 2, fig_size)\n",
    ")\n",
    "\n",
    "axs[0].set_title(f\"BFS\", fontsize=12)\n",
    "graph_visualization.draw_graph(\n",
    "    ax=axs[0],\n",
    "    graph=graph,\n",
    "    subgraph=bfs_sub\n",
    ")\n",
    "\n",
    "axs[1].set_title(f\"DFS\", fontsize=12)\n",
    "graph_visualization.draw_graph(\n",
    "    ax=axs[1],\n",
    "    graph=graph,\n",
    "    subgraph=dfs_sub\n",
    ")\n",
    "\n",
    "plt.tight_layout(pad=2)\n",
    "plt.savefig('./out/rgg_bfs_dfs.pdf')"
   ],
   "metadata": {
    "collapsed": false,
    "ExecuteTime": {
     "start_time": "2023-04-20T11:26:03.658474Z",
     "end_time": "2023-04-20T11:26:04.692749Z"
    }
   }
  },
  {
   "cell_type": "markdown",
   "source": [
    "# Average Degree"
   ],
   "metadata": {
    "collapsed": false
   }
  },
  {
   "cell_type": "code",
   "execution_count": null,
   "outputs": [],
   "source": [
    "args = Args(\n",
    "    graph_type=\"t_rgg\",\n",
    "    graph_size=500,\n",
    "    # rgg specific settings\n",
    "    rgg_avg_degree=10\n",
    ")\n",
    "\n",
    "result = pd.DataFrame({})\n",
    "\n",
    "for r in range(10):\n",
    "    graph = graphs.gen_graph(args)\n",
    "    result = pd.concat([\n",
    "        result,\n",
    "        pd.Series({\n",
    "            \"run_index\": r,\n",
    "            \"avg_degree\": np.array([d for _, d in graph.degree()]).sum() / nx.number_of_nodes(graph),\n",
    "            **asdict(args),\n",
    "        }).to_frame().T\n",
    "    ], ignore_index=True)\n",
    "\n",
    "\n",
    "avg_degree = result[\"avg_degree\"].mean()\n",
    "print(f\"RGG should have avg degree {args.rg_avg_degree}, actually: {avg_degree}\")"
   ],
   "metadata": {
    "collapsed": false,
    "ExecuteTime": {
     "start_time": "2023-04-20T10:49:21.594014Z",
     "end_time": "2023-04-20T10:49:33.306196Z"
    }
   }
  },
  {
   "cell_type": "markdown",
   "source": [
    "# Class Imbalance"
   ],
   "metadata": {
    "collapsed": false
   }
  },
  {
   "cell_type": "code",
   "execution_count": null,
   "outputs": [],
   "source": [
    "args_list = [\n",
    "    Args(\n",
    "        graph_type=\"rgg\",\n",
    "        graph_size=graph_size,\n",
    "        # rgg specific settings\n",
    "        rgg_avg_degree=10\n",
    "    )\n",
    "    for graph_size in [500, 1000, 2000, 3000, 4000, 5000]\n",
    "    for _ in range(100)\n",
    "]\n",
    "\n",
    "result = pd.DataFrame({})\n",
    "\n",
    "for r, args in enumerate(tqdm(args_list)):\n",
    "    graph = graphs.gen_graph(args)\n",
    "    n = nx.number_of_nodes(graph)\n",
    "    e = nx.number_of_edges(graph)\n",
    "    result = pd.concat([\n",
    "        result,\n",
    "        pd.Series({\n",
    "            \"run_index\": r,\n",
    "            \"type\": \"graph\",\n",
    "            \"n_nodes\": n,\n",
    "            \"n_edges\": e,\n",
    "            \"edge_imbalance\": 2 * e / (n * (n - 1)),\n",
    "            **asdict(args),\n",
    "        }).to_frame().T\n",
    "    ], ignore_index=True)\n",
    "\n",
    "    sub = subgraphs.rjs_of(graph, args.epoch_graph_size, alpha=0.05)\n",
    "    n = nx.number_of_nodes(sub)\n",
    "    e = nx.number_of_edges(sub)\n",
    "    result = pd.concat([\n",
    "        result,\n",
    "        pd.Series({\n",
    "            \"run_index\": r,\n",
    "            \"type\": \"sub\",\n",
    "            \"n_nodes\": n,\n",
    "            \"n_edges\": e,\n",
    "            \"edge_imbalance\": 2 * e / (n * (n - 1)),\n",
    "            **asdict(args),\n",
    "        }).to_frame().T\n",
    "    ], ignore_index=True)\n",
    "\n",
    "    result.to_csv(f\"./out/class_imbalance.csv.zip\", index=False, compression=dict(method='zip', archive_name=f\"data.csv\"))"
   ],
   "metadata": {
    "collapsed": false,
    "ExecuteTime": {
     "start_time": "2023-04-20T11:43:40.420954Z",
     "end_time": "2023-04-20T11:44:04.059106Z"
    }
   }
  },
  {
   "cell_type": "code",
   "execution_count": 21,
   "outputs": [
    {
     "data": {
      "text/plain": "<Figure size 1103x500 with 1 Axes>",
      "image/png": "[encoded data removed]"
     },
     "metadata": {},
     "output_type": "display_data"
    }
   ],
   "source": [
    "g = sns.relplot(\n",
    "    data=result\n",
    "        .assign(Type=result[\"type\"].map({\"graph\": \"Graph\", \"sub\": \"Subgraph\"})),\n",
    "    x=\"graph_size\",\n",
    "    y=\"edge_imbalance\",\n",
    "    hue=\"Type\",\n",
    "    kind=\"line\",\n",
    "    errorbar=\"sd\",\n",
    "    aspect=2,\n",
    ")\n",
    "g.set_axis_labels(\"Graph Size\", \"Edges\")\n",
    "g.ax.yaxis.set_major_formatter(PercentFormatter(1))\n",
    "\n",
    "g.fig.savefig('./out/class_imbalance.pdf')"
   ],
   "metadata": {
    "collapsed": false,
    "ExecuteTime": {
     "start_time": "2023-04-22T11:31:23.019878Z",
     "end_time": "2023-04-22T11:31:23.349335Z"
    }
   }
  },
  {
   "cell_type": "markdown",
   "source": [
    "# Visualize graph on torus"
   ],
   "metadata": {
    "collapsed": false
   }
  },
  {
   "cell_type": "code",
   "execution_count": null,
   "outputs": [],
   "source": [
    "cmap = sns.color_palette(\"Spectral\", as_cmap=True)\n",
    "fig = plt.figure(figsize=(20, 10))\n",
    "\n",
    "n = 100\n",
    "theta = np.linspace(0, 2.*np.pi, n)\n",
    "phi = np.linspace(0, 2.*np.pi, n)\n",
    "theta, phi = np.meshgrid(theta, phi)\n",
    "c, a = 2, 1\n",
    "x = (c + a*np.cos(theta)) * np.cos(phi)\n",
    "y = (c + a*np.cos(theta)) * np.sin(phi)\n",
    "z = a * np.sin(theta)\n",
    "\n",
    "ax1 = fig.add_subplot(121, projection='3d')\n",
    "ax1.set_zlim(-3,3)\n",
    "ax1.plot_surface(x, y, z, rstride=5, cstride=5, edgecolors=cmap(0.9))\n",
    "ax1.set_xticks([])\n",
    "ax1.set_yticks([])\n",
    "ax1.set_zticks([])\n",
    "ax1.grid(False)\n",
    "plt.axis('off')\n",
    "\n",
    "\n",
    "args = Args(\n",
    "    graph_type=\"girg\",\n",
    "    graph_size=10\n",
    ")\n",
    "\n",
    "graph = graphs.gen_graph(args)\n",
    "display_graph = on_toroid(graph)\n",
    "\n",
    "node_colors = [\n",
    "    cmap(0.0) if any([\"shift\" in d and d[\"shift\"] != \"none\" for (_, _, d) in display_graph.edges(u, data=True)]) else cmap(1.0)\n",
    "    for u in list(display_graph.nodes)\n",
    "]\n",
    "edge_colors = [\n",
    "    cmap(0.1) if s != \"none\" else cmap(0.9)\n",
    "    for (u, v, s) in display_graph.edges(data=\"shift\")\n",
    "]\n",
    "\n",
    "ax2 = fig.add_subplot(122)\n",
    "ax2.set_aspect('equal')\n",
    "ax2.set_xlim(left=0, right=1)\n",
    "ax2.set_ylim(bottom=0, top=1)\n",
    "nx.draw_networkx(\n",
    "    display_graph,\n",
    "    pos=display_graph.nodes.data(\"pos\"),\n",
    "    node_color=node_colors,\n",
    "    edge_color=edge_colors,\n",
    "    with_labels=False,\n",
    "    node_size=1.5,\n",
    "    ax=ax2\n",
    ")\n",
    "\n",
    "plt.show()\n",
    "fig.savefig(\"./out/torus.pdf\")"
   ],
   "metadata": {
    "collapsed": false,
    "pycharm": {
     "is_executing": true
    }
   }
  },
  {
   "cell_type": "code",
   "execution_count": null,
   "outputs": [],
   "source": [],
   "metadata": {
    "collapsed": false
   }
  }
 ],
 "metadata": {
  "kernelspec": {
   "display_name": "Python 3",
   "language": "python",
   "name": "python3"
  },
  "language_info": {
   "codemirror_mode": {
    "name": "ipython",
    "version": 2
   },
   "file_extension": ".py",
   "mimetype": "text/x-python",
   "name": "python",
   "nbconvert_exporter": "python",
   "pygments_lexer": "ipython2",
   "version": "2.7.6"
  }
 },
 "nbformat": 4,
 "nbformat_minor": 0
}
