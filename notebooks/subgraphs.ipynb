{
 "cells": [
  {
   "cell_type": "code",
   "execution_count": null,
   "outputs": [],
   "source": [
    "from dataclasses import asdict\n",
    "\n",
    "import numpy as np\n",
    "import pandas as pd\n",
    "\n",
    "from src.evaluator import DatasetBuilder\n",
    "from src.graph import subgraph, gen_graph, periodic_of, non_periodic_node\n",
    "from src.args import Args\n",
    "import seaborn as sns\n",
    "import networkx as nx\n",
    "import matplotlib.pyplot as plt\n",
    "from datetime import datetime"
   ],
   "metadata": {
    "collapsed": false,
    "ExecuteTime": {
     "start_time": "2023-04-04T16:17:19.832406Z",
     "end_time": "2023-04-04T16:17:20.701312Z"
    }
   }
  },
  {
   "cell_type": "code",
   "execution_count": null,
   "outputs": [],
   "source": [
    "import os\n",
    "\n",
    "if os.getcwd().endswith(\"notebooks\"):\n",
    "    os.chdir(\"..\")\n",
    "    print(\"using project root as working dir\")"
   ],
   "metadata": {
    "collapsed": false,
    "ExecuteTime": {
     "start_time": "2023-04-04T16:17:20.702542Z",
     "end_time": "2023-04-04T16:17:20.705222Z"
    }
   }
  },
  {
   "cell_type": "code",
   "execution_count": null,
   "outputs": [],
   "source": [
    "%load_ext autoreload\n",
    "%autoreload 2"
   ],
   "metadata": {
    "collapsed": false,
    "ExecuteTime": {
     "start_time": "2023-04-04T16:17:20.706947Z",
     "end_time": "2023-04-04T16:17:20.740488Z"
    }
   }
  },
  {
   "cell_type": "code",
   "execution_count": null,
   "outputs": [],
   "source": [
    "# global seaborn settings\n",
    "sns.set_context(\"paper\")\n",
    "sns.set_style(\"darkgrid\", { \"grid.color\": \".8\" })\n",
    "\n",
    "palette = \"Dark2\""
   ],
   "metadata": {
    "collapsed": false,
    "ExecuteTime": {
     "start_time": "2023-04-04T16:17:20.726591Z",
     "end_time": "2023-04-04T16:17:20.765789Z"
    }
   }
  },
  {
   "cell_type": "markdown",
   "source": [
    "# Generate Graph\n",
    "\n",
    "Generates the graph and"
   ],
   "metadata": {
    "collapsed": false
   }
  },
  {
   "cell_type": "code",
   "execution_count": null,
   "outputs": [],
   "source": [
    "args = Args(\n",
    "    graph_type=\"t_rgg\"\n",
    ")\n",
    "\n",
    "# generate graph\n",
    "graph, dim = gen_graph(args)\n",
    "\n",
    "# display settings\n",
    "cmap = sns.color_palette(\"Spectral\", as_cmap=True)\n",
    "\n",
    "# set display graph\n",
    "periodic = args.graph_type == \"girg\" or args.graph_type == \"t_rgg\"\n",
    "if periodic:\n",
    "    p_graph = periodic_of(graph)\n",
    "    display_graph = p_graph\n",
    "else:\n",
    "    display_graph = graph\n",
    "\n",
    "# draw original graph (use to select good-looking graph)\n",
    "fig_size = 10\n",
    "fig, ax = plt.subplots(\n",
    "    figsize=(fig_size, fig_size)\n",
    ")\n",
    "\n",
    "ax.set_title(f\"size = {args.graph_size}\", fontsize=12)\n",
    "ax.set_aspect('equal')\n",
    "ax.set_xlim(left=0, right=1)\n",
    "ax.set_ylim(bottom=0, top=1)\n",
    "\n",
    "nx.draw_networkx(\n",
    "    display_graph,\n",
    "    pos=display_graph.nodes.data(\"pos\"),\n",
    "    node_color=cmap(1.0),\n",
    "    edge_color=cmap(0.9),\n",
    "    with_labels=False,\n",
    "    node_size=1.5,\n",
    "    ax=ax\n",
    ")\n",
    "\n",
    "plt.savefig('./out/complete_out.pdf')"
   ],
   "metadata": {
    "collapsed": false
   }
  },
  {
   "cell_type": "code",
   "execution_count": null,
   "outputs": [],
   "source": [
    "sub_args = [\n",
    "    Args(\n",
    "        # graph_size=graph_size,\n",
    "        epoch_graph_size=250,\n",
    "        epoch_graph_alpha=epoch_graph_alpha\n",
    "    )\n",
    "    # for graph_size in [500, 1000, 2500]\n",
    "    #for epoch_graph_size in [50, 100, 250]\n",
    "    for epoch_graph_alpha in [0.0, 0.5, 1.0]\n",
    "]\n",
    "\n",
    "fig_size = 10\n",
    "fig, axs = plt.subplots(\n",
    "    ncols=len(sub_args),\n",
    "    nrows=1,\n",
    "    figsize=(fig_size * len(sub_args), fig_size)\n",
    ")\n",
    "\n",
    "for i, a in enumerate(sub_args):\n",
    "\n",
    "    ax = axs[i]\n",
    "\n",
    "    ax.set_title(f\"alpha = {a.epoch_graph_alpha}\", fontsize=12)\n",
    "    ax.set_aspect('equal')\n",
    "    ax.set_xlim(left=0, right=1)\n",
    "    ax.set_ylim(bottom=0, top=1)\n",
    "\n",
    "    sub, _ = subgraph(\n",
    "        graph=graph,\n",
    "        size=a.epoch_graph_size,\n",
    "        alpha=a.epoch_graph_alpha,\n",
    "        boredom_pth=0.9,\n",
    "    )\n",
    "\n",
    "    node_colors = [\n",
    "        cmap(0.0) if sub.has_node(non_periodic_node(node)) else cmap(1.0)\n",
    "        for node in list(display_graph.nodes)\n",
    "    ]\n",
    "\n",
    "    edge_colors = [\n",
    "        cmap(0.1) if sub.has_edge(non_periodic_node(u), non_periodic_node(v)) else cmap(0.9)\n",
    "        for (u, v) in display_graph.edges\n",
    "    ]\n",
    "\n",
    "    nx.draw_networkx(\n",
    "        display_graph,\n",
    "        pos=display_graph.nodes.data(\"pos\"),\n",
    "        with_labels=False,\n",
    "        node_size=1.5,\n",
    "        node_color=node_colors,\n",
    "        edge_color=edge_colors,\n",
    "        ax=ax\n",
    "    )\n",
    "\n",
    "plt.savefig('./out/subs_out.pdf')"
   ],
   "metadata": {
    "collapsed": false
   }
  },
  {
   "cell_type": "markdown",
   "source": [
    "# Class imbalance"
   ],
   "metadata": {
    "collapsed": false
   }
  },
  {
   "cell_type": "code",
   "execution_count": null,
   "outputs": [],
   "source": [
    "args_list = [\n",
    "    Args(\n",
    "        graph_type=\"girg\",\n",
    "        graph_size=graph_size,\n",
    "    )\n",
    "    for graph_size in [100, 250, 500, 750, 1000, 1500, 2000, 2500]\n",
    "]\n",
    "\n",
    "df_result = pd.DataFrame({})\n",
    "\n",
    "for args in args_list:\n",
    "    # generate graph\n",
    "    graph, dim = gen_graph(args)\n",
    "    ds = DatasetBuilder(graph, 100, \"cpu\")\n",
    "    df_result = pd.concat([\n",
    "        df_result,\n",
    "        pd.Series({\n",
    "            \"n_nodes\": ds.n_nodes,\n",
    "            # graph data\n",
    "            \"amount\": ds.n_edges,\n",
    "            \"type\": \"n_edges\",\n",
    "            # run args\n",
    "            **asdict(args),\n",
    "        }).to_frame().T,\n",
    "        pd.Series({\n",
    "            \"n_nodes\": ds.n_nodes,\n",
    "            # graph data\n",
    "            \"amount\": ds.n_non_edges,\n",
    "            \"type\": \"n_non_edges\",\n",
    "            # run args\n",
    "            **asdict(args),\n",
    "        }).to_frame().T\n",
    "    ], ignore_index=True)"
   ],
   "metadata": {
    "collapsed": false
   }
  },
  {
   "cell_type": "code",
   "execution_count": null,
   "outputs": [],
   "source": [
    "g = sns.relplot(\n",
    "    data=df_result.assign(Data=df_result[\"type\"].map({\"n_non_edges\": \"no edge\", \"n_edges\": \"is edge\"})), kind=\"line\",\n",
    "    col=\"Data\",\n",
    "    hue=\"Data\",\n",
    "    x=\"graph_size\",\n",
    "    y=\"amount\",\n",
    "    # errorbar=\"sd\",\n",
    "    palette=palette,\n",
    "    aspect=2,\n",
    "    facet_kws={\n",
    "        'sharey': False,\n",
    "        'sharex': True\n",
    "    }\n",
    ")\n",
    "g.set_axis_labels(\"Graph Size\", \"Amount\")\n",
    "for item, ax in g.axes_dict.items():\n",
    "    ax.set_title(\"\")\n",
    "g.fig.savefig('./out/dataset_composition_girg.pdf')"
   ],
   "metadata": {
    "collapsed": false
   }
  },
  {
   "cell_type": "code",
   "execution_count": null,
   "outputs": [],
   "source": [
    "df_result.to_csv(f\"./out/data_girg.csv.zip\", index=False, compression=dict(method='zip', archive_name=f\"data_girg.csv\"))"
   ],
   "metadata": {
    "collapsed": false
   }
  },
  {
   "cell_type": "code",
   "execution_count": null,
   "outputs": [],
   "source": [
    "df_result.assign(Data=df_result[\"type\"].map({\"n_non_edge\": \"no edge\", \"n_edge\": \"is edge\"}))"
   ],
   "metadata": {
    "collapsed": false
   }
  },
  {
   "cell_type": "code",
   "execution_count": null,
   "outputs": [],
   "source": [
    "df_result.assign(type=df_result[\"type\"].map({\"n_non_edges\": \"no edge\", \"n_edges\": \"is edge\"}))[\"type\"]"
   ],
   "metadata": {
    "collapsed": false
   }
  },
  {
   "cell_type": "markdown",
   "source": [
    "# Subgraph Characteristics"
   ],
   "metadata": {
    "collapsed": false
   }
  },
  {
   "cell_type": "code",
   "execution_count": null,
   "outputs": [],
   "source": [
    "sub_args = [\n",
    "    Args(\n",
    "        graph_size=graph_size,\n",
    "        epoch_graph_size=epoch_graph_size,\n",
    "        epoch_graph_alpha=epoch_graph_alpha\n",
    "    )\n",
    "    for graph_size in [500, 1000, 2500]\n",
    "    for epoch_graph_size in [50, 100, 250]\n",
    "    for epoch_graph_alpha in [0.0, 0.5, 1.0]\n",
    "]\n",
    "reps = 10\n",
    "experiment_key = datetime.now().strftime(\"%d-%m--%H-%M\")\n",
    "\n",
    "def graph_char(_graph: nx.Graph) -> dict:\n",
    "    n = nx.number_of_nodes(_graph)\n",
    "    e = nx.number_of_edges(_graph)\n",
    "    return {\n",
    "        \"n_nodes\": n,\n",
    "        \"n_edges\": e,\n",
    "        \"edge_imbalance\": 2 * e / (n * (n - 1)),\n",
    "        \"n_cliques\": nx.number_of_cliques(_graph),\n",
    "        \"n_isolates\": nx.number_of_isolates(_graph),\n",
    "        \"n_components\": nx.number_connected_components(_graph),\n",
    "        \"connected\": nx.is_connected(_graph),\n",
    "        \"transitivity\": nx.transitivity(_graph),\n",
    "        \"average_clustering\": nx.average_clustering(_graph),\n",
    "        \"average_degree\": np.array([d for n, d in _graph.degree()]).sum() / nx.number_of_nodes(_graph),\n",
    "    }\n",
    "\n",
    "df_graphs = pd.DataFrame({})\n",
    "\n",
    "for i, args in enumerate(sub_args):\n",
    "    print(f\"running {i}/{len(sub_args)}\")\n",
    "\n",
    "    graph, dim = gen_graph(args)\n",
    "    df_graphs = pd.concat([\n",
    "        df_graphs,\n",
    "        pd.Series({\n",
    "            # graph and subgraph chars\n",
    "            \"target\": \"graph\",\n",
    "            **graph_char(graph),\n",
    "            # run args\n",
    "            \"args_i\": i,\n",
    "            **asdict(args),\n",
    "        }).to_frame().T\n",
    "    ], ignore_index=True)\n",
    "\n",
    "    for rep in range(reps):\n",
    "        sub, _ = subgraph(\n",
    "            graph=graph,\n",
    "            size=args.epoch_graph_size,\n",
    "            alpha=args.epoch_graph_alpha,\n",
    "            boredom_pth=0.8,\n",
    "        )\n",
    "        df_graphs = pd.concat([\n",
    "            df_graphs,\n",
    "            pd.Series({\n",
    "                # graph and subgraph chars\n",
    "                \"target\": \"subgraph\",\n",
    "                **graph_char(sub),\n",
    "                # run args\n",
    "                \"args_i\": i,\n",
    "                \"rep\": rep,\n",
    "                **asdict(args),\n",
    "            }).to_frame().T\n",
    "        ], ignore_index=True)\n",
    "\n",
    "        df_graphs.to_csv(f\"./run-data/sub--{experiment_key}.csv.zip\", index=False, compression=dict(method='zip', archive_name=f\"sub--{experiment_key}.csv\"))\n",
    "print(\"done\")"
   ],
   "metadata": {
    "collapsed": false,
    "ExecuteTime": {
     "start_time": "2023-04-04T16:21:32.760168Z",
     "end_time": "2023-04-04T16:21:51.669304Z"
    }
   }
  },
  {
   "cell_type": "code",
   "execution_count": null,
   "outputs": [],
   "source": [
    "# plot grid search result \"average_degree\"\n",
    "g = sns.relplot(\n",
    "    data=df_graphs,\n",
    "    x=\"graph_size\",\n",
    "    y=\"average_degree\",\n",
    "    hue=\"target\",\n",
    "    col=\"epoch_graph_size\",\n",
    "    row=\"epoch_graph_alpha\",\n",
    "    kind=\"line\",\n",
    "    errorbar=\"sd\",\n",
    ")\n",
    "g.fig.savefig('./out/sub_chars.svg')"
   ],
   "metadata": {
    "collapsed": false
   }
  },
  {
   "cell_type": "code",
   "execution_count": null,
   "outputs": [],
   "source": [
    "# plot grid search result \"edge_imbalance\"\n",
    "g = sns.relplot(\n",
    "    data=df_graphs,\n",
    "    x=\"graph_size\",\n",
    "    y=\"edge_imbalance\",\n",
    "    hue=\"target\",\n",
    "    col=\"epoch_graph_size\",\n",
    "    row=\"epoch_graph_alpha\",\n",
    "    kind=\"line\",\n",
    "    errorbar=\"sd\",\n",
    ")\n",
    "g.fig.savefig('./out/edge_imbalance.svg')\n",
    "g.fig.savefig('./out/edge_imbalance.png')"
   ],
   "metadata": {
    "collapsed": false,
    "ExecuteTime": {
     "start_time": "2023-04-04T16:23:11.315371Z",
     "end_time": "2023-04-04T16:23:13.796138Z"
    }
   }
  },
  {
   "cell_type": "code",
   "execution_count": null,
   "outputs": [],
   "source": [],
   "metadata": {
    "collapsed": false
   }
  }
 ],
 "metadata": {
  "kernelspec": {
   "display_name": "Python 3",
   "language": "python",
   "name": "python3"
  },
  "language_info": {
   "codemirror_mode": {
    "name": "ipython",
    "version": 2
   },
   "file_extension": ".py",
   "mimetype": "text/x-python",
   "name": "python",
   "nbconvert_exporter": "python",
   "pygments_lexer": "ipython2",
   "version": "2.7.6"
  }
 },
 "nbformat": 4,
 "nbformat_minor": 0
}
